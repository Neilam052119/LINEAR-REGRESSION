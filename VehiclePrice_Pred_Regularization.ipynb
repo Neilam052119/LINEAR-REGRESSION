{
 "cells": [
  {
   "cell_type": "code",
   "execution_count": 1,
   "id": "576cd685",
   "metadata": {},
   "outputs": [],
   "source": [
    "import pandas as pd\n",
    "import numpy as np\n",
    "import matplotlib.pyplot as plt\n",
    "import seaborn as sns\n",
    "from scipy import stats"
   ]
  },
  {
   "cell_type": "markdown",
   "id": "bd00e68a",
   "metadata": {},
   "source": [
    "#### Read the dataset"
   ]
  },
  {
   "cell_type": "code",
   "execution_count": 2,
   "id": "731250b5",
   "metadata": {},
   "outputs": [
    {
     "data": {
      "text/html": [
       "<div>\n",
       "<style scoped>\n",
       "    .dataframe tbody tr th:only-of-type {\n",
       "        vertical-align: middle;\n",
       "    }\n",
       "\n",
       "    .dataframe tbody tr th {\n",
       "        vertical-align: top;\n",
       "    }\n",
       "\n",
       "    .dataframe thead th {\n",
       "        text-align: right;\n",
       "    }\n",
       "</style>\n",
       "<table border=\"1\" class=\"dataframe\">\n",
       "  <thead>\n",
       "    <tr style=\"text-align: right;\">\n",
       "      <th></th>\n",
       "      <th>origin</th>\n",
       "      <th>cylinders</th>\n",
       "      <th>displacement</th>\n",
       "      <th>horsepower</th>\n",
       "      <th>weight</th>\n",
       "      <th>acceleration</th>\n",
       "      <th>year</th>\n",
       "      <th>name</th>\n",
       "      <th>Kilometer_per_liter</th>\n",
       "    </tr>\n",
       "  </thead>\n",
       "  <tbody>\n",
       "    <tr>\n",
       "      <th>0</th>\n",
       "      <td>1</td>\n",
       "      <td>8</td>\n",
       "      <td>307.0</td>\n",
       "      <td>130</td>\n",
       "      <td>3504</td>\n",
       "      <td>12.0</td>\n",
       "      <td>1970</td>\n",
       "      <td>chevrolet chevelle malibu</td>\n",
       "      <td>7.652587</td>\n",
       "    </tr>\n",
       "    <tr>\n",
       "      <th>1</th>\n",
       "      <td>1</td>\n",
       "      <td>8</td>\n",
       "      <td>350.0</td>\n",
       "      <td>165</td>\n",
       "      <td>3693</td>\n",
       "      <td>11.5</td>\n",
       "      <td>1970</td>\n",
       "      <td>buick skylark 320</td>\n",
       "      <td>6.377156</td>\n",
       "    </tr>\n",
       "    <tr>\n",
       "      <th>2</th>\n",
       "      <td>1</td>\n",
       "      <td>8</td>\n",
       "      <td>318.0</td>\n",
       "      <td>150</td>\n",
       "      <td>3436</td>\n",
       "      <td>11.0</td>\n",
       "      <td>1970</td>\n",
       "      <td>plymouth satellite</td>\n",
       "      <td>7.652587</td>\n",
       "    </tr>\n",
       "    <tr>\n",
       "      <th>3</th>\n",
       "      <td>1</td>\n",
       "      <td>8</td>\n",
       "      <td>304.0</td>\n",
       "      <td>150</td>\n",
       "      <td>3433</td>\n",
       "      <td>12.0</td>\n",
       "      <td>1970</td>\n",
       "      <td>amc rebel sst</td>\n",
       "      <td>6.802299</td>\n",
       "    </tr>\n",
       "    <tr>\n",
       "      <th>4</th>\n",
       "      <td>1</td>\n",
       "      <td>8</td>\n",
       "      <td>302.0</td>\n",
       "      <td>140</td>\n",
       "      <td>3449</td>\n",
       "      <td>10.5</td>\n",
       "      <td>1970</td>\n",
       "      <td>ford torino</td>\n",
       "      <td>7.227443</td>\n",
       "    </tr>\n",
       "  </tbody>\n",
       "</table>\n",
       "</div>"
      ],
      "text/plain": [
       "   origin  cylinders  displacement horsepower  weight  acceleration  year  \\\n",
       "0       1          8         307.0        130    3504          12.0  1970   \n",
       "1       1          8         350.0        165    3693          11.5  1970   \n",
       "2       1          8         318.0        150    3436          11.0  1970   \n",
       "3       1          8         304.0        150    3433          12.0  1970   \n",
       "4       1          8         302.0        140    3449          10.5  1970   \n",
       "\n",
       "                        name  Kilometer_per_liter  \n",
       "0  chevrolet chevelle malibu             7.652587  \n",
       "1          buick skylark 320             6.377156  \n",
       "2         plymouth satellite             7.652587  \n",
       "3              amc rebel sst             6.802299  \n",
       "4                ford torino             7.227443  "
      ]
     },
     "execution_count": 2,
     "metadata": {},
     "output_type": "execute_result"
    }
   ],
   "source": [
    "df = pd.read_csv('vehicle_data.csv')\n",
    "df.head()"
   ]
  },
  {
   "cell_type": "markdown",
   "id": "65950bef",
   "metadata": {},
   "source": [
    "#### Shape of the dataframe"
   ]
  },
  {
   "cell_type": "code",
   "execution_count": 3,
   "id": "08008940",
   "metadata": {},
   "outputs": [
    {
     "data": {
      "text/plain": [
       "(398, 9)"
      ]
     },
     "execution_count": 3,
     "metadata": {},
     "output_type": "execute_result"
    }
   ],
   "source": [
    "df.shape\n",
    "# rows=398,cols=9"
   ]
  },
  {
   "cell_type": "markdown",
   "id": "e5b8ef93",
   "metadata": {},
   "source": [
    "#### Creating copy of the dataframe"
   ]
  },
  {
   "cell_type": "code",
   "execution_count": 4,
   "id": "0bbf0300",
   "metadata": {},
   "outputs": [
    {
     "data": {
      "text/html": [
       "<div>\n",
       "<style scoped>\n",
       "    .dataframe tbody tr th:only-of-type {\n",
       "        vertical-align: middle;\n",
       "    }\n",
       "\n",
       "    .dataframe tbody tr th {\n",
       "        vertical-align: top;\n",
       "    }\n",
       "\n",
       "    .dataframe thead th {\n",
       "        text-align: right;\n",
       "    }\n",
       "</style>\n",
       "<table border=\"1\" class=\"dataframe\">\n",
       "  <thead>\n",
       "    <tr style=\"text-align: right;\">\n",
       "      <th></th>\n",
       "      <th>origin</th>\n",
       "      <th>cylinders</th>\n",
       "      <th>displacement</th>\n",
       "      <th>horsepower</th>\n",
       "      <th>weight</th>\n",
       "      <th>acceleration</th>\n",
       "      <th>year</th>\n",
       "      <th>name</th>\n",
       "      <th>Kilometer_per_liter</th>\n",
       "    </tr>\n",
       "  </thead>\n",
       "  <tbody>\n",
       "    <tr>\n",
       "      <th>0</th>\n",
       "      <td>1</td>\n",
       "      <td>8</td>\n",
       "      <td>307.0</td>\n",
       "      <td>130</td>\n",
       "      <td>3504</td>\n",
       "      <td>12.0</td>\n",
       "      <td>1970</td>\n",
       "      <td>chevrolet chevelle malibu</td>\n",
       "      <td>7.652587</td>\n",
       "    </tr>\n",
       "    <tr>\n",
       "      <th>1</th>\n",
       "      <td>1</td>\n",
       "      <td>8</td>\n",
       "      <td>350.0</td>\n",
       "      <td>165</td>\n",
       "      <td>3693</td>\n",
       "      <td>11.5</td>\n",
       "      <td>1970</td>\n",
       "      <td>buick skylark 320</td>\n",
       "      <td>6.377156</td>\n",
       "    </tr>\n",
       "    <tr>\n",
       "      <th>2</th>\n",
       "      <td>1</td>\n",
       "      <td>8</td>\n",
       "      <td>318.0</td>\n",
       "      <td>150</td>\n",
       "      <td>3436</td>\n",
       "      <td>11.0</td>\n",
       "      <td>1970</td>\n",
       "      <td>plymouth satellite</td>\n",
       "      <td>7.652587</td>\n",
       "    </tr>\n",
       "    <tr>\n",
       "      <th>3</th>\n",
       "      <td>1</td>\n",
       "      <td>8</td>\n",
       "      <td>304.0</td>\n",
       "      <td>150</td>\n",
       "      <td>3433</td>\n",
       "      <td>12.0</td>\n",
       "      <td>1970</td>\n",
       "      <td>amc rebel sst</td>\n",
       "      <td>6.802299</td>\n",
       "    </tr>\n",
       "    <tr>\n",
       "      <th>4</th>\n",
       "      <td>1</td>\n",
       "      <td>8</td>\n",
       "      <td>302.0</td>\n",
       "      <td>140</td>\n",
       "      <td>3449</td>\n",
       "      <td>10.5</td>\n",
       "      <td>1970</td>\n",
       "      <td>ford torino</td>\n",
       "      <td>7.227443</td>\n",
       "    </tr>\n",
       "  </tbody>\n",
       "</table>\n",
       "</div>"
      ],
      "text/plain": [
       "   origin  cylinders  displacement horsepower  weight  acceleration  year  \\\n",
       "0       1          8         307.0        130    3504          12.0  1970   \n",
       "1       1          8         350.0        165    3693          11.5  1970   \n",
       "2       1          8         318.0        150    3436          11.0  1970   \n",
       "3       1          8         304.0        150    3433          12.0  1970   \n",
       "4       1          8         302.0        140    3449          10.5  1970   \n",
       "\n",
       "                        name  Kilometer_per_liter  \n",
       "0  chevrolet chevelle malibu             7.652587  \n",
       "1          buick skylark 320             6.377156  \n",
       "2         plymouth satellite             7.652587  \n",
       "3              amc rebel sst             6.802299  \n",
       "4                ford torino             7.227443  "
      ]
     },
     "execution_count": 4,
     "metadata": {},
     "output_type": "execute_result"
    }
   ],
   "source": [
    "df1 = df.copy()\n",
    "df1.head()"
   ]
  },
  {
   "cell_type": "markdown",
   "id": "989ece5a",
   "metadata": {},
   "source": [
    "#### Renaming column"
   ]
  },
  {
   "cell_type": "code",
   "execution_count": 5,
   "id": "a95c7063",
   "metadata": {},
   "outputs": [
    {
     "data": {
      "text/html": [
       "<div>\n",
       "<style scoped>\n",
       "    .dataframe tbody tr th:only-of-type {\n",
       "        vertical-align: middle;\n",
       "    }\n",
       "\n",
       "    .dataframe tbody tr th {\n",
       "        vertical-align: top;\n",
       "    }\n",
       "\n",
       "    .dataframe thead th {\n",
       "        text-align: right;\n",
       "    }\n",
       "</style>\n",
       "<table border=\"1\" class=\"dataframe\">\n",
       "  <thead>\n",
       "    <tr style=\"text-align: right;\">\n",
       "      <th></th>\n",
       "      <th>origin</th>\n",
       "      <th>cylinders</th>\n",
       "      <th>displacement</th>\n",
       "      <th>horsepower</th>\n",
       "      <th>weight</th>\n",
       "      <th>acceleration</th>\n",
       "      <th>year</th>\n",
       "      <th>name</th>\n",
       "      <th>kpl</th>\n",
       "    </tr>\n",
       "  </thead>\n",
       "  <tbody>\n",
       "    <tr>\n",
       "      <th>0</th>\n",
       "      <td>1</td>\n",
       "      <td>8</td>\n",
       "      <td>307.0</td>\n",
       "      <td>130</td>\n",
       "      <td>3504</td>\n",
       "      <td>12.0</td>\n",
       "      <td>1970</td>\n",
       "      <td>chevrolet chevelle malibu</td>\n",
       "      <td>7.652587</td>\n",
       "    </tr>\n",
       "    <tr>\n",
       "      <th>1</th>\n",
       "      <td>1</td>\n",
       "      <td>8</td>\n",
       "      <td>350.0</td>\n",
       "      <td>165</td>\n",
       "      <td>3693</td>\n",
       "      <td>11.5</td>\n",
       "      <td>1970</td>\n",
       "      <td>buick skylark 320</td>\n",
       "      <td>6.377156</td>\n",
       "    </tr>\n",
       "    <tr>\n",
       "      <th>2</th>\n",
       "      <td>1</td>\n",
       "      <td>8</td>\n",
       "      <td>318.0</td>\n",
       "      <td>150</td>\n",
       "      <td>3436</td>\n",
       "      <td>11.0</td>\n",
       "      <td>1970</td>\n",
       "      <td>plymouth satellite</td>\n",
       "      <td>7.652587</td>\n",
       "    </tr>\n",
       "  </tbody>\n",
       "</table>\n",
       "</div>"
      ],
      "text/plain": [
       "   origin  cylinders  displacement horsepower  weight  acceleration  year  \\\n",
       "0       1          8         307.0        130    3504          12.0  1970   \n",
       "1       1          8         350.0        165    3693          11.5  1970   \n",
       "2       1          8         318.0        150    3436          11.0  1970   \n",
       "\n",
       "                        name       kpl  \n",
       "0  chevrolet chevelle malibu  7.652587  \n",
       "1          buick skylark 320  6.377156  \n",
       "2         plymouth satellite  7.652587  "
      ]
     },
     "execution_count": 5,
     "metadata": {},
     "output_type": "execute_result"
    }
   ],
   "source": [
    "df1.rename(columns={'Kilometer_per_liter':'kpl'},inplace=True)\n",
    "df1.head(3)"
   ]
  },
  {
   "cell_type": "markdown",
   "id": "d9114e21",
   "metadata": {},
   "source": [
    "#### Handling null values"
   ]
  },
  {
   "cell_type": "code",
   "execution_count": 6,
   "id": "6d681ca7",
   "metadata": {},
   "outputs": [
    {
     "data": {
      "text/plain": [
       "origin          0\n",
       "cylinders       0\n",
       "displacement    0\n",
       "horsepower      0\n",
       "weight          0\n",
       "acceleration    0\n",
       "year            0\n",
       "name            0\n",
       "kpl             0\n",
       "dtype: int64"
      ]
     },
     "execution_count": 6,
     "metadata": {},
     "output_type": "execute_result"
    }
   ],
   "source": [
    "df1.isnull().sum()"
   ]
  },
  {
   "cell_type": "markdown",
   "id": "9ba1c254",
   "metadata": {},
   "source": [
    "#### Handling Duplicates"
   ]
  },
  {
   "cell_type": "code",
   "execution_count": 7,
   "id": "4e3d4a8b",
   "metadata": {},
   "outputs": [
    {
     "data": {
      "text/plain": [
       "0"
      ]
     },
     "execution_count": 7,
     "metadata": {},
     "output_type": "execute_result"
    }
   ],
   "source": [
    "df.duplicated().sum()"
   ]
  },
  {
   "cell_type": "markdown",
   "id": "caaf514b",
   "metadata": {},
   "source": [
    "#### Checking data Types"
   ]
  },
  {
   "cell_type": "code",
   "execution_count": 8,
   "id": "06549f77",
   "metadata": {},
   "outputs": [
    {
     "data": {
      "text/plain": [
       "origin            int64\n",
       "cylinders         int64\n",
       "displacement    float64\n",
       "horsepower       object\n",
       "weight            int64\n",
       "acceleration    float64\n",
       "year              int64\n",
       "name             object\n",
       "kpl             float64\n",
       "dtype: object"
      ]
     },
     "execution_count": 8,
     "metadata": {},
     "output_type": "execute_result"
    }
   ],
   "source": [
    "df1.dtypes"
   ]
  },
  {
   "cell_type": "markdown",
   "id": "fb19a1ae",
   "metadata": {},
   "source": [
    "#### Checking Columns for inconsistent values"
   ]
  },
  {
   "cell_type": "code",
   "execution_count": 9,
   "id": "4cde7aaf",
   "metadata": {
    "scrolled": true
   },
   "outputs": [
    {
     "data": {
      "text/plain": [
       "150    22\n",
       "90     20\n",
       "88     19\n",
       "110    18\n",
       "100    17\n",
       "       ..\n",
       "61      1\n",
       "93      1\n",
       "148     1\n",
       "152     1\n",
       "82      1\n",
       "Name: horsepower, Length: 94, dtype: int64"
      ]
     },
     "execution_count": 9,
     "metadata": {},
     "output_type": "execute_result"
    }
   ],
   "source": [
    "df1['horsepower'].value_counts()"
   ]
  },
  {
   "cell_type": "code",
   "execution_count": 1,
   "id": "816dd238",
   "metadata": {},
   "outputs": [],
   "source": [
    "# df['horsepower']= pd.to_numeric(df['horsepower'])\n",
    "\n",
    "\n",
    "# #or\n",
    "# #df['horsepower'] = "
   ]
  },
  {
   "cell_type": "code",
   "execution_count": null,
   "id": "884e9b65",
   "metadata": {},
   "outputs": [],
   "source": []
  },
  {
   "cell_type": "code",
   "execution_count": 11,
   "id": "b5725f0c",
   "metadata": {},
   "outputs": [
    {
     "data": {
      "text/plain": [
       "array(['130', '165', '150', '140', '198', '220', '215', '225', '190',\n",
       "       '170', '160', '95', '97', '85', '88', '46', '87', '90', '113',\n",
       "       '200', '210', '193', '?', '100', '105', '175', '153', '180', '110',\n",
       "       '72', '86', '70', '76', '65', '69', '60', '80', '54', '208', '155',\n",
       "       '112', '92', '145', '137', '158', '167', '94', '107', '230', '49',\n",
       "       '75', '91', '122', '67', '83', '78', '52', '61', '93', '148',\n",
       "       '129', '96', '71', '98', '115', '53', '81', '79', '120', '152',\n",
       "       '102', '108', '68', '58', '149', '89', '63', '48', '66', '139',\n",
       "       '103', '125', '133', '138', '135', '142', '77', '62', '132', '84',\n",
       "       '64', '74', '116', '82'], dtype=object)"
      ]
     },
     "execution_count": 11,
     "metadata": {},
     "output_type": "execute_result"
    }
   ],
   "source": [
    "df1['horsepower'].unique()"
   ]
  },
  {
   "cell_type": "code",
   "execution_count": 12,
   "id": "8c01cb4e",
   "metadata": {},
   "outputs": [
    {
     "data": {
      "text/plain": [
       "(6, 9)"
      ]
     },
     "execution_count": 12,
     "metadata": {},
     "output_type": "execute_result"
    }
   ],
   "source": [
    "df1[df1['horsepower']==\"?\"].shape"
   ]
  },
  {
   "cell_type": "code",
   "execution_count": 13,
   "id": "d4cc8db1",
   "metadata": {},
   "outputs": [
    {
     "data": {
      "text/plain": [
       "array(['130', '165', '150', '140', '198', '220', '215', '225', '190',\n",
       "       '170', '160', '95', '97', '85', '88', '46', '87', '90', '113',\n",
       "       '200', '210', '193', '100', '105', '175', '153', '180', '110',\n",
       "       '72', '86', '70', '76', '65', '69', '60', '80', '54', '208', '155',\n",
       "       '112', '92', '145', '137', '158', '167', '94', '107', '230', '49',\n",
       "       '75', '91', '122', '67', '83', '78', '52', '61', '93', '148',\n",
       "       '129', '96', '71', '98', '115', '53', '81', '79', '120', '152',\n",
       "       '102', '108', '68', '58', '149', '89', '63', '48', '66', '139',\n",
       "       '103', '125', '133', '138', '135', '142', '77', '62', '132', '84',\n",
       "       '64', '74', '116', '82'], dtype=object)"
      ]
     },
     "execution_count": 13,
     "metadata": {},
     "output_type": "execute_result"
    }
   ],
   "source": [
    "df1 = df1[df1['horsepower']!=\"?\"]\n",
    "df1['horsepower'].unique()"
   ]
  },
  {
   "cell_type": "code",
   "execution_count": 14,
   "id": "26f4facc",
   "metadata": {},
   "outputs": [],
   "source": [
    "# r = [int(i) for i in df1['horsepower'].unique() if i!='?']\n",
    "# print(r)\n",
    "# print(np.mean(r))\n",
    "# print(np.median(r))"
   ]
  },
  {
   "cell_type": "code",
   "execution_count": 15,
   "id": "7f6a6459",
   "metadata": {},
   "outputs": [],
   "source": [
    "# df1['horsepower'] = df['horsepower'].replace('?','150')\n",
    "# df1['horsepower'].unique()"
   ]
  },
  {
   "cell_type": "code",
   "execution_count": 16,
   "id": "d48fb898",
   "metadata": {},
   "outputs": [],
   "source": [
    "# df1['horsepower'].value_counts().sort_values(ascending=False)"
   ]
  },
  {
   "cell_type": "code",
   "execution_count": 17,
   "id": "15abc6ba",
   "metadata": {},
   "outputs": [
    {
     "data": {
      "text/plain": [
       "origin            int64\n",
       "cylinders         int64\n",
       "displacement    float64\n",
       "horsepower        int64\n",
       "weight            int64\n",
       "acceleration    float64\n",
       "year              int64\n",
       "name             object\n",
       "kpl             float64\n",
       "dtype: object"
      ]
     },
     "execution_count": 17,
     "metadata": {},
     "output_type": "execute_result"
    }
   ],
   "source": [
    "df1['horsepower'] = pd.to_numeric(df1['horsepower'])\n",
    "df1.dtypes"
   ]
  },
  {
   "cell_type": "code",
   "execution_count": 18,
   "id": "3cd59175",
   "metadata": {},
   "outputs": [
    {
     "name": "stdout",
     "output_type": "stream",
     "text": [
      "(392, 9)\n"
     ]
    }
   ],
   "source": [
    "print(df1.shape)"
   ]
  },
  {
   "cell_type": "code",
   "execution_count": 19,
   "id": "56c8f1e5",
   "metadata": {},
   "outputs": [
    {
     "name": "stdout",
     "output_type": "stream",
     "text": [
      "301\n",
      "['chevrolet chevelle malibu' 'buick skylark 320' 'plymouth satellite'\n",
      " 'amc rebel sst' 'ford torino' 'ford galaxie 500' 'chevrolet impala'\n",
      " 'plymouth fury iii' 'pontiac catalina' 'amc ambassador dpl'\n",
      " 'dodge challenger se' \"plymouth 'cuda 340\" 'chevrolet monte carlo'\n",
      " 'buick estate wagon (sw)' 'toyota corona mark ii' 'plymouth duster'\n",
      " 'amc hornet' 'ford maverick' 'datsun pl510'\n",
      " 'volkswagen 1131 deluxe sedan' 'peugeot 504' 'audi 100 ls' 'saab 99e'\n",
      " 'bmw 2002' 'amc gremlin' 'ford f250' 'chevy c20' 'dodge d200' 'hi 1200d'\n",
      " 'chevrolet vega 2300' 'toyota corona' 'plymouth satellite custom'\n",
      " 'ford torino 500' 'amc matador' 'pontiac catalina brougham'\n",
      " 'dodge monaco (sw)' 'ford country squire (sw)' 'pontiac safari (sw)'\n",
      " 'amc hornet sportabout (sw)' 'chevrolet vega (sw)' 'pontiac firebird'\n",
      " 'ford mustang' 'mercury capri 2000' 'opel 1900' 'peugeot 304' 'fiat 124b'\n",
      " 'toyota corolla 1200' 'datsun 1200' 'volkswagen model 111'\n",
      " 'plymouth cricket' 'toyota corona hardtop' 'dodge colt hardtop'\n",
      " 'volkswagen type 3' 'chevrolet vega' 'ford pinto runabout'\n",
      " 'amc ambassador sst' 'mercury marquis' 'buick lesabre custom'\n",
      " 'oldsmobile delta 88 royale' 'chrysler newport royal' 'mazda rx2 coupe'\n",
      " 'amc matador (sw)' 'chevrolet chevelle concours (sw)'\n",
      " 'ford gran torino (sw)' 'plymouth satellite custom (sw)'\n",
      " 'volvo 145e (sw)' 'volkswagen 411 (sw)' 'peugeot 504 (sw)'\n",
      " 'renault 12 (sw)' 'ford pinto (sw)' 'datsun 510 (sw)'\n",
      " 'toyouta corona mark ii (sw)' 'dodge colt (sw)'\n",
      " 'toyota corolla 1600 (sw)' 'buick century 350' 'chevrolet malibu'\n",
      " 'ford gran torino' 'dodge coronet custom' 'mercury marquis brougham'\n",
      " 'chevrolet caprice classic' 'ford ltd' 'plymouth fury gran sedan'\n",
      " 'chrysler new yorker brougham' 'buick electra 225 custom'\n",
      " 'amc ambassador brougham' 'plymouth valiant' 'chevrolet nova custom'\n",
      " 'volkswagen super beetle' 'ford country' 'plymouth custom suburb'\n",
      " 'oldsmobile vista cruiser' 'toyota carina' 'datsun 610' 'maxda rx3'\n",
      " 'ford pinto' 'mercury capri v6' 'fiat 124 sport coupe'\n",
      " 'chevrolet monte carlo s' 'pontiac grand prix' 'fiat 128' 'opel manta'\n",
      " 'audi 100ls' 'volvo 144ea' 'dodge dart custom' 'saab 99le'\n",
      " 'toyota mark ii' 'oldsmobile omega' 'chevrolet nova' 'datsun b210'\n",
      " 'chevrolet chevelle malibu classic' 'plymouth satellite sebring'\n",
      " 'buick century luxus (sw)' 'dodge coronet custom (sw)' 'audi fox'\n",
      " 'volkswagen dasher' 'datsun 710' 'dodge colt' 'fiat 124 tc' 'honda civic'\n",
      " 'subaru' 'fiat x1.9' 'plymouth valiant custom' 'mercury monarch'\n",
      " 'chevrolet bel air' 'plymouth grand fury' 'buick century'\n",
      " 'chevroelt chevelle malibu' 'plymouth fury' 'buick skyhawk'\n",
      " 'chevrolet monza 2+2' 'ford mustang ii' 'toyota corolla' 'pontiac astro'\n",
      " 'volkswagen rabbit' 'amc pacer' 'volvo 244dl' 'honda civic cvcc'\n",
      " 'fiat 131' 'capri ii' 'renault 12tl' 'dodge coronet brougham'\n",
      " 'chevrolet chevette' 'chevrolet woody' 'vw rabbit' 'dodge aspen se'\n",
      " 'ford granada ghia' 'pontiac ventura sj' 'amc pacer d/l' 'datsun b-210'\n",
      " 'volvo 245' 'plymouth volare premier v8' 'mercedes-benz 280s'\n",
      " 'cadillac seville' 'chevy c10' 'ford f108' 'dodge d100'\n",
      " 'honda accord cvcc' 'buick opel isuzu deluxe' 'renault 5 gtl'\n",
      " 'plymouth arrow gs' 'datsun f-10 hatchback' 'oldsmobile cutlass supreme'\n",
      " 'dodge monaco brougham' 'mercury cougar brougham' 'chevrolet concours'\n",
      " 'buick skylark' 'plymouth volare custom' 'ford granada'\n",
      " 'pontiac grand prix lj' 'chevrolet monte carlo landau' 'chrysler cordoba'\n",
      " 'ford thunderbird' 'volkswagen rabbit custom' 'pontiac sunbird coupe'\n",
      " 'toyota corolla liftback' 'ford mustang ii 2+2' 'dodge colt m/m'\n",
      " 'subaru dl' 'datsun 810' 'bmw 320i' 'mazda rx-4'\n",
      " 'volkswagen rabbit custom diesel' 'ford fiesta' 'mazda glc deluxe'\n",
      " 'datsun b210 gx' 'oldsmobile cutlass salon brougham' 'dodge diplomat'\n",
      " 'mercury monarch ghia' 'pontiac phoenix lj' 'ford fairmont (auto)'\n",
      " 'ford fairmont (man)' 'plymouth volare' 'amc concord'\n",
      " 'buick century special' 'mercury zephyr' 'dodge aspen' 'amc concord d/l'\n",
      " 'buick regal sport coupe (turbo)' 'ford futura' 'dodge magnum xe'\n",
      " 'datsun 510' 'dodge omni' 'toyota celica gt liftback' 'plymouth sapporo'\n",
      " 'oldsmobile starfire sx' 'datsun 200-sx' 'audi 5000' 'volvo 264gl'\n",
      " 'saab 99gle' 'peugeot 604sl' 'volkswagen scirocco' 'honda accord lx'\n",
      " 'pontiac lemans v6' 'mercury zephyr 6' 'ford fairmont 4'\n",
      " 'amc concord dl 6' 'dodge aspen 6' 'ford ltd landau'\n",
      " 'mercury grand marquis' 'dodge st. regis' 'chevrolet malibu classic (sw)'\n",
      " 'chrysler lebaron town @ country (sw)' 'vw rabbit custom'\n",
      " 'maxda glc deluxe' 'dodge colt hatchback custom' 'amc spirit dl'\n",
      " 'mercedes benz 300d' 'cadillac eldorado' 'plymouth horizon'\n",
      " 'plymouth horizon tc3' 'datsun 210' 'fiat strada custom'\n",
      " 'buick skylark limited' 'chevrolet citation' 'oldsmobile omega brougham'\n",
      " 'pontiac phoenix' 'toyota corolla tercel' 'datsun 310' 'ford fairmont'\n",
      " 'audi 4000' 'toyota corona liftback' 'mazda 626' 'datsun 510 hatchback'\n",
      " 'mazda glc' 'vw rabbit c (diesel)' 'vw dasher (diesel)'\n",
      " 'audi 5000s (diesel)' 'mercedes-benz 240d' 'honda civic 1500 gl'\n",
      " 'vokswagen rabbit' 'datsun 280-zx' 'mazda rx-7 gs' 'triumph tr7 coupe'\n",
      " 'honda accord' 'plymouth reliant' 'dodge aries wagon (sw)'\n",
      " 'toyota starlet' 'plymouth champ' 'honda civic 1300' 'datsun 210 mpg'\n",
      " 'toyota tercel' 'mazda glc 4' 'plymouth horizon 4' 'ford escort 4w'\n",
      " 'ford escort 2h' 'volkswagen jetta' 'honda prelude' 'datsun 200sx'\n",
      " 'peugeot 505s turbo diesel' 'volvo diesel' 'toyota cressida'\n",
      " 'datsun 810 maxima' 'oldsmobile cutlass ls' 'ford granada gl'\n",
      " 'chrysler lebaron salon' 'chevrolet cavalier' 'chevrolet cavalier wagon'\n",
      " 'chevrolet cavalier 2-door' 'pontiac j2000 se hatchback' 'dodge aries se'\n",
      " 'ford fairmont futura' 'volkswagen rabbit l' 'mazda glc custom l'\n",
      " 'mazda glc custom' 'plymouth horizon miser' 'mercury lynx l'\n",
      " 'nissan stanza xe' 'honda civic (auto)' 'datsun 310 gx'\n",
      " 'buick century limited' 'oldsmobile cutlass ciera (diesel)'\n",
      " 'chrysler lebaron medallion' 'ford granada l' 'toyota celica gt'\n",
      " 'dodge charger 2.2' 'chevrolet camaro' 'ford mustang gl' 'vw pickup'\n",
      " 'dodge rampage' 'ford ranger' 'chevy s-10']\n"
     ]
    }
   ],
   "source": [
    "print(df1['name'].nunique())\n",
    "print(df1['name'].unique())"
   ]
  },
  {
   "cell_type": "code",
   "execution_count": 20,
   "id": "745a3a3e",
   "metadata": {},
   "outputs": [
    {
     "name": "stdout",
     "output_type": "stream",
     "text": [
      "['toyota corona mark ii', 'toyota corona', 'toyota corolla 1200', 'toyota corona hardtop', 'toyouta corona mark ii (sw)', 'toyota corolla 1600 (sw)', 'toyota carina', 'toyota mark ii', 'toyota corolla', 'toyota corolla liftback', 'toyota celica gt liftback', 'toyota corolla tercel', 'toyota corona liftback', 'toyota starlet', 'toyota tercel', 'toyota cressida', 'toyota celica gt']\n"
     ]
    }
   ],
   "source": [
    "r1 = [i for i in df1['name'].unique() if i.startswith('to')]\n",
    "print(r1)"
   ]
  },
  {
   "cell_type": "code",
   "execution_count": 21,
   "id": "0591e9bf",
   "metadata": {},
   "outputs": [
    {
     "name": "stdout",
     "output_type": "stream",
     "text": [
      "['chevrolet chevelle malibu', 'chevrolet impala', 'chevrolet monte carlo', 'chevy c20', 'chevrolet vega 2300', 'chevrolet vega (sw)', 'chevrolet vega', 'chevrolet chevelle concours (sw)', 'chevrolet malibu', 'chevrolet caprice classic', 'chevrolet nova custom', 'chevrolet monte carlo s', 'chevrolet nova', 'chevrolet chevelle malibu classic', 'chevrolet bel air', 'chevroelt chevelle malibu', 'chevrolet monza 2+2', 'chevrolet chevette', 'chevrolet woody', 'chevy c10', 'chevrolet concours', 'chevrolet monte carlo landau', 'chevrolet malibu classic (sw)', 'chevrolet citation', 'chevrolet cavalier', 'chevrolet cavalier wagon', 'chevrolet cavalier 2-door', 'chevrolet camaro', 'chevy s-10']\n"
     ]
    }
   ],
   "source": [
    "r2 = [i for i in df1['name'].unique() if i.startswith('chev')]\n",
    "print(r2)"
   ]
  },
  {
   "cell_type": "code",
   "execution_count": 22,
   "id": "85b28530",
   "metadata": {},
   "outputs": [
    {
     "data": {
      "text/html": [
       "<div>\n",
       "<style scoped>\n",
       "    .dataframe tbody tr th:only-of-type {\n",
       "        vertical-align: middle;\n",
       "    }\n",
       "\n",
       "    .dataframe tbody tr th {\n",
       "        vertical-align: top;\n",
       "    }\n",
       "\n",
       "    .dataframe thead th {\n",
       "        text-align: right;\n",
       "    }\n",
       "</style>\n",
       "<table border=\"1\" class=\"dataframe\">\n",
       "  <thead>\n",
       "    <tr style=\"text-align: right;\">\n",
       "      <th></th>\n",
       "      <th>origin</th>\n",
       "      <th>cylinders</th>\n",
       "      <th>displacement</th>\n",
       "      <th>horsepower</th>\n",
       "      <th>weight</th>\n",
       "      <th>acceleration</th>\n",
       "      <th>year</th>\n",
       "      <th>kpl</th>\n",
       "    </tr>\n",
       "  </thead>\n",
       "  <tbody>\n",
       "    <tr>\n",
       "      <th>0</th>\n",
       "      <td>1</td>\n",
       "      <td>8</td>\n",
       "      <td>307.0</td>\n",
       "      <td>130</td>\n",
       "      <td>3504</td>\n",
       "      <td>12.0</td>\n",
       "      <td>1970</td>\n",
       "      <td>7.652587</td>\n",
       "    </tr>\n",
       "    <tr>\n",
       "      <th>1</th>\n",
       "      <td>1</td>\n",
       "      <td>8</td>\n",
       "      <td>350.0</td>\n",
       "      <td>165</td>\n",
       "      <td>3693</td>\n",
       "      <td>11.5</td>\n",
       "      <td>1970</td>\n",
       "      <td>6.377156</td>\n",
       "    </tr>\n",
       "    <tr>\n",
       "      <th>2</th>\n",
       "      <td>1</td>\n",
       "      <td>8</td>\n",
       "      <td>318.0</td>\n",
       "      <td>150</td>\n",
       "      <td>3436</td>\n",
       "      <td>11.0</td>\n",
       "      <td>1970</td>\n",
       "      <td>7.652587</td>\n",
       "    </tr>\n",
       "    <tr>\n",
       "      <th>3</th>\n",
       "      <td>1</td>\n",
       "      <td>8</td>\n",
       "      <td>304.0</td>\n",
       "      <td>150</td>\n",
       "      <td>3433</td>\n",
       "      <td>12.0</td>\n",
       "      <td>1970</td>\n",
       "      <td>6.802299</td>\n",
       "    </tr>\n",
       "    <tr>\n",
       "      <th>4</th>\n",
       "      <td>1</td>\n",
       "      <td>8</td>\n",
       "      <td>302.0</td>\n",
       "      <td>140</td>\n",
       "      <td>3449</td>\n",
       "      <td>10.5</td>\n",
       "      <td>1970</td>\n",
       "      <td>7.227443</td>\n",
       "    </tr>\n",
       "  </tbody>\n",
       "</table>\n",
       "</div>"
      ],
      "text/plain": [
       "   origin  cylinders  displacement  horsepower  weight  acceleration  year  \\\n",
       "0       1          8         307.0         130    3504          12.0  1970   \n",
       "1       1          8         350.0         165    3693          11.5  1970   \n",
       "2       1          8         318.0         150    3436          11.0  1970   \n",
       "3       1          8         304.0         150    3433          12.0  1970   \n",
       "4       1          8         302.0         140    3449          10.5  1970   \n",
       "\n",
       "        kpl  \n",
       "0  7.652587  \n",
       "1  6.377156  \n",
       "2  7.652587  \n",
       "3  6.802299  \n",
       "4  7.227443  "
      ]
     },
     "execution_count": 22,
     "metadata": {},
     "output_type": "execute_result"
    }
   ],
   "source": [
    "df1.drop('name',axis=1,inplace=True)\n",
    "df1.head()"
   ]
  },
  {
   "cell_type": "markdown",
   "id": "da6876a2",
   "metadata": {},
   "source": [
    "## EDA"
   ]
  },
  {
   "cell_type": "markdown",
   "id": "994d8228",
   "metadata": {},
   "source": [
    "### 1) Univarite Data Analysis"
   ]
  },
  {
   "cell_type": "code",
   "execution_count": 23,
   "id": "597c42da",
   "metadata": {},
   "outputs": [
    {
     "data": {
      "text/html": [
       "<div>\n",
       "<style scoped>\n",
       "    .dataframe tbody tr th:only-of-type {\n",
       "        vertical-align: middle;\n",
       "    }\n",
       "\n",
       "    .dataframe tbody tr th {\n",
       "        vertical-align: top;\n",
       "    }\n",
       "\n",
       "    .dataframe thead th {\n",
       "        text-align: right;\n",
       "    }\n",
       "</style>\n",
       "<table border=\"1\" class=\"dataframe\">\n",
       "  <thead>\n",
       "    <tr style=\"text-align: right;\">\n",
       "      <th></th>\n",
       "      <th>origin</th>\n",
       "      <th>cylinders</th>\n",
       "      <th>displacement</th>\n",
       "      <th>horsepower</th>\n",
       "      <th>weight</th>\n",
       "      <th>acceleration</th>\n",
       "      <th>year</th>\n",
       "      <th>kpl</th>\n",
       "    </tr>\n",
       "  </thead>\n",
       "  <tbody>\n",
       "    <tr>\n",
       "      <th>count</th>\n",
       "      <td>392.000000</td>\n",
       "      <td>392.000000</td>\n",
       "      <td>392.000000</td>\n",
       "      <td>392.000000</td>\n",
       "      <td>392.000000</td>\n",
       "      <td>392.000000</td>\n",
       "      <td>392.000000</td>\n",
       "      <td>392.000000</td>\n",
       "    </tr>\n",
       "    <tr>\n",
       "      <th>mean</th>\n",
       "      <td>1.576531</td>\n",
       "      <td>5.471939</td>\n",
       "      <td>194.411990</td>\n",
       "      <td>104.469388</td>\n",
       "      <td>2977.584184</td>\n",
       "      <td>15.541327</td>\n",
       "      <td>1975.979592</td>\n",
       "      <td>9.967885</td>\n",
       "    </tr>\n",
       "    <tr>\n",
       "      <th>std</th>\n",
       "      <td>0.805518</td>\n",
       "      <td>1.705783</td>\n",
       "      <td>104.644004</td>\n",
       "      <td>38.491160</td>\n",
       "      <td>849.402560</td>\n",
       "      <td>2.758864</td>\n",
       "      <td>3.683737</td>\n",
       "      <td>3.318250</td>\n",
       "    </tr>\n",
       "    <tr>\n",
       "      <th>min</th>\n",
       "      <td>1.000000</td>\n",
       "      <td>3.000000</td>\n",
       "      <td>68.000000</td>\n",
       "      <td>46.000000</td>\n",
       "      <td>1613.000000</td>\n",
       "      <td>8.000000</td>\n",
       "      <td>1970.000000</td>\n",
       "      <td>3.826293</td>\n",
       "    </tr>\n",
       "    <tr>\n",
       "      <th>25%</th>\n",
       "      <td>1.000000</td>\n",
       "      <td>4.000000</td>\n",
       "      <td>105.000000</td>\n",
       "      <td>75.000000</td>\n",
       "      <td>2225.250000</td>\n",
       "      <td>13.775000</td>\n",
       "      <td>1973.000000</td>\n",
       "      <td>7.227443</td>\n",
       "    </tr>\n",
       "    <tr>\n",
       "      <th>50%</th>\n",
       "      <td>1.000000</td>\n",
       "      <td>4.000000</td>\n",
       "      <td>151.000000</td>\n",
       "      <td>93.500000</td>\n",
       "      <td>2803.500000</td>\n",
       "      <td>15.500000</td>\n",
       "      <td>1976.000000</td>\n",
       "      <td>9.672019</td>\n",
       "    </tr>\n",
       "    <tr>\n",
       "      <th>75%</th>\n",
       "      <td>2.000000</td>\n",
       "      <td>8.000000</td>\n",
       "      <td>275.750000</td>\n",
       "      <td>126.000000</td>\n",
       "      <td>3614.750000</td>\n",
       "      <td>17.025000</td>\n",
       "      <td>1979.000000</td>\n",
       "      <td>12.329168</td>\n",
       "    </tr>\n",
       "    <tr>\n",
       "      <th>max</th>\n",
       "      <td>3.000000</td>\n",
       "      <td>8.000000</td>\n",
       "      <td>455.000000</td>\n",
       "      <td>230.000000</td>\n",
       "      <td>5140.000000</td>\n",
       "      <td>24.800000</td>\n",
       "      <td>1982.000000</td>\n",
       "      <td>19.811697</td>\n",
       "    </tr>\n",
       "  </tbody>\n",
       "</table>\n",
       "</div>"
      ],
      "text/plain": [
       "           origin   cylinders  displacement  horsepower       weight  \\\n",
       "count  392.000000  392.000000    392.000000  392.000000   392.000000   \n",
       "mean     1.576531    5.471939    194.411990  104.469388  2977.584184   \n",
       "std      0.805518    1.705783    104.644004   38.491160   849.402560   \n",
       "min      1.000000    3.000000     68.000000   46.000000  1613.000000   \n",
       "25%      1.000000    4.000000    105.000000   75.000000  2225.250000   \n",
       "50%      1.000000    4.000000    151.000000   93.500000  2803.500000   \n",
       "75%      2.000000    8.000000    275.750000  126.000000  3614.750000   \n",
       "max      3.000000    8.000000    455.000000  230.000000  5140.000000   \n",
       "\n",
       "       acceleration         year         kpl  \n",
       "count    392.000000   392.000000  392.000000  \n",
       "mean      15.541327  1975.979592    9.967885  \n",
       "std        2.758864     3.683737    3.318250  \n",
       "min        8.000000  1970.000000    3.826293  \n",
       "25%       13.775000  1973.000000    7.227443  \n",
       "50%       15.500000  1976.000000    9.672019  \n",
       "75%       17.025000  1979.000000   12.329168  \n",
       "max       24.800000  1982.000000   19.811697  "
      ]
     },
     "execution_count": 23,
     "metadata": {},
     "output_type": "execute_result"
    }
   ],
   "source": [
    "df1.describe()"
   ]
  },
  {
   "cell_type": "code",
   "execution_count": 24,
   "id": "ca30a3b6",
   "metadata": {},
   "outputs": [
    {
     "data": {
      "text/plain": [
       "(392, 8)"
      ]
     },
     "execution_count": 24,
     "metadata": {},
     "output_type": "execute_result"
    }
   ],
   "source": [
    "df1.shape"
   ]
  },
  {
   "cell_type": "code",
   "execution_count": 25,
   "id": "085b5c5c",
   "metadata": {},
   "outputs": [
    {
     "name": "stdout",
     "output_type": "stream",
     "text": [
      "1    245\n",
      "3     79\n",
      "2     68\n",
      "Name: origin, dtype: int64\n",
      "4    199\n",
      "8    103\n",
      "6     83\n",
      "3      4\n",
      "5      3\n",
      "Name: cylinders, dtype: int64\n"
     ]
    }
   ],
   "source": [
    "for i in ('origin','cylinders'):\n",
    "    print(df1[i].value_counts())"
   ]
  },
  {
   "cell_type": "code",
   "execution_count": 26,
   "id": "77e35fd4",
   "metadata": {},
   "outputs": [
    {
     "data": {
      "image/png": "[encoded data removed]",
      "text/plain": [
       "<Figure size 640x480 with 1 Axes>"
      ]
     },
     "metadata": {},
     "output_type": "display_data"
    },
    {
     "data": {
      "image/png": "[encoded data removed]",
      "text/plain": [
       "<Figure size 640x480 with 1 Axes>"
      ]
     },
     "metadata": {},
     "output_type": "display_data"
    }
   ],
   "source": [
    "for i in ('origin','cylinders'):\n",
    "    sns.countplot(x=df[i])\n",
    "    plt.title(f'Count of feature - {i}')\n",
    "    plt.show()"
   ]
  },
  {
   "cell_type": "markdown",
   "id": "f1a35858",
   "metadata": {},
   "source": [
    "#### Inference\n",
    "1) Most of the vehicles have origin country 1<br>\n",
    "2) Most of the vehicles have 4 cylinders<br>"
   ]
  },
  {
   "cell_type": "code",
   "execution_count": 27,
   "id": "d2888baa",
   "metadata": {},
   "outputs": [
    {
     "data": {
      "image/png": "[encoded data removed]",
      "text/plain": [
       "<Figure size 640x480 with 1 Axes>"
      ]
     },
     "metadata": {},
     "output_type": "display_data"
    },
    {
     "data": {
      "image/png": "[encoded data removed]",
      "text/plain": [
       "<Figure size 640x480 with 1 Axes>"
      ]
     },
     "metadata": {},
     "output_type": "display_data"
    }
   ],
   "source": [
    "for i in ('origin','cylinders'):\n",
    "    r = df[i].value_counts()\n",
    "    plt.pie(x=r.values,labels=r.index,autopct='%.2f%%')\n",
    "    plt.title(f'Percentage dist of - {i}')\n",
    "    plt.show()"
   ]
  },
  {
   "cell_type": "markdown",
   "id": "8155db28",
   "metadata": {},
   "source": [
    "#### Inference\n",
    "1) More than 95% of vehicles have either 4, 6 or 8 cylinder<br>"
   ]
  },
  {
   "cell_type": "markdown",
   "id": "79451fdc",
   "metadata": {},
   "source": [
    "#### Unique Counts"
   ]
  },
  {
   "cell_type": "code",
   "execution_count": 28,
   "id": "05380677",
   "metadata": {},
   "outputs": [
    {
     "data": {
      "text/html": [
       "<div>\n",
       "<style scoped>\n",
       "    .dataframe tbody tr th:only-of-type {\n",
       "        vertical-align: middle;\n",
       "    }\n",
       "\n",
       "    .dataframe tbody tr th {\n",
       "        vertical-align: top;\n",
       "    }\n",
       "\n",
       "    .dataframe thead th {\n",
       "        text-align: right;\n",
       "    }\n",
       "</style>\n",
       "<table border=\"1\" class=\"dataframe\">\n",
       "  <thead>\n",
       "    <tr style=\"text-align: right;\">\n",
       "      <th></th>\n",
       "      <th>origin</th>\n",
       "      <th>cylinders</th>\n",
       "      <th>displacement</th>\n",
       "      <th>horsepower</th>\n",
       "      <th>weight</th>\n",
       "      <th>acceleration</th>\n",
       "      <th>year</th>\n",
       "      <th>kpl</th>\n",
       "    </tr>\n",
       "  </thead>\n",
       "  <tbody>\n",
       "    <tr>\n",
       "      <th>0</th>\n",
       "      <td>1</td>\n",
       "      <td>8</td>\n",
       "      <td>307.0</td>\n",
       "      <td>130</td>\n",
       "      <td>3504</td>\n",
       "      <td>12.0</td>\n",
       "      <td>1970</td>\n",
       "      <td>7.652587</td>\n",
       "    </tr>\n",
       "    <tr>\n",
       "      <th>1</th>\n",
       "      <td>1</td>\n",
       "      <td>8</td>\n",
       "      <td>350.0</td>\n",
       "      <td>165</td>\n",
       "      <td>3693</td>\n",
       "      <td>11.5</td>\n",
       "      <td>1970</td>\n",
       "      <td>6.377156</td>\n",
       "    </tr>\n",
       "    <tr>\n",
       "      <th>2</th>\n",
       "      <td>1</td>\n",
       "      <td>8</td>\n",
       "      <td>318.0</td>\n",
       "      <td>150</td>\n",
       "      <td>3436</td>\n",
       "      <td>11.0</td>\n",
       "      <td>1970</td>\n",
       "      <td>7.652587</td>\n",
       "    </tr>\n",
       "    <tr>\n",
       "      <th>3</th>\n",
       "      <td>1</td>\n",
       "      <td>8</td>\n",
       "      <td>304.0</td>\n",
       "      <td>150</td>\n",
       "      <td>3433</td>\n",
       "      <td>12.0</td>\n",
       "      <td>1970</td>\n",
       "      <td>6.802299</td>\n",
       "    </tr>\n",
       "    <tr>\n",
       "      <th>4</th>\n",
       "      <td>1</td>\n",
       "      <td>8</td>\n",
       "      <td>302.0</td>\n",
       "      <td>140</td>\n",
       "      <td>3449</td>\n",
       "      <td>10.5</td>\n",
       "      <td>1970</td>\n",
       "      <td>7.227443</td>\n",
       "    </tr>\n",
       "  </tbody>\n",
       "</table>\n",
       "</div>"
      ],
      "text/plain": [
       "   origin  cylinders  displacement  horsepower  weight  acceleration  year  \\\n",
       "0       1          8         307.0         130    3504          12.0  1970   \n",
       "1       1          8         350.0         165    3693          11.5  1970   \n",
       "2       1          8         318.0         150    3436          11.0  1970   \n",
       "3       1          8         304.0         150    3433          12.0  1970   \n",
       "4       1          8         302.0         140    3449          10.5  1970   \n",
       "\n",
       "        kpl  \n",
       "0  7.652587  \n",
       "1  6.377156  \n",
       "2  7.652587  \n",
       "3  6.802299  \n",
       "4  7.227443  "
      ]
     },
     "execution_count": 28,
     "metadata": {},
     "output_type": "execute_result"
    }
   ],
   "source": [
    "df1.head()"
   ]
  },
  {
   "cell_type": "code",
   "execution_count": 29,
   "id": "78178582",
   "metadata": {},
   "outputs": [
    {
     "name": "stdout",
     "output_type": "stream",
     "text": [
      "Index(['origin', 'cylinders', 'displacement', 'horsepower', 'weight',\n",
      "       'acceleration', 'year', 'name', 'Kilometer_per_liter'],\n",
      "      dtype='object')\n"
     ]
    },
    {
     "data": {
      "text/plain": [
       "Index(['origin', 'cylinders', 'displacement', 'horsepower', 'acceleration',\n",
       "       'year'],\n",
       "      dtype='object')"
      ]
     },
     "execution_count": 29,
     "metadata": {},
     "output_type": "execute_result"
    }
   ],
   "source": [
    "print(df.columns)\n",
    "df.columns[[0,1,2,3,5,6]]"
   ]
  },
  {
   "cell_type": "code",
   "execution_count": 30,
   "id": "74c46460",
   "metadata": {},
   "outputs": [
    {
     "name": "stdout",
     "output_type": "stream",
     "text": [
      "origin -  3\n",
      "cylinders -  5\n",
      "displacement -  82\n",
      "horsepower -  94\n",
      "acceleration -  95\n",
      "year -  13\n"
     ]
    }
   ],
   "source": [
    "for i in df.columns[[0,1,2,3,5,6]]:\n",
    "    print(f'{i} -  {df[i].nunique()}')"
   ]
  },
  {
   "cell_type": "code",
   "execution_count": 31,
   "id": "14833761",
   "metadata": {},
   "outputs": [
    {
     "data": {
      "text/plain": [
       "Index(['origin', 'cylinders', 'displacement', 'horsepower', 'weight',\n",
       "       'acceleration', 'year', 'kpl'],\n",
       "      dtype='object')"
      ]
     },
     "execution_count": 31,
     "metadata": {},
     "output_type": "execute_result"
    }
   ],
   "source": [
    "num_cols = df1.dtypes[df1.dtypes!='object'].index\n",
    "num_cols"
   ]
  },
  {
   "cell_type": "markdown",
   "id": "76f8ed0e",
   "metadata": {},
   "source": [
    "#### Boxplots"
   ]
  },
  {
   "cell_type": "code",
   "execution_count": 32,
   "id": "424a611d",
   "metadata": {},
   "outputs": [
    {
     "data": {
      "text/plain": [
       "Index(['origin', 'cylinders', 'displacement', 'horsepower', 'weight',\n",
       "       'acceleration', 'year', 'kpl'],\n",
       "      dtype='object')"
      ]
     },
     "execution_count": 32,
     "metadata": {},
     "output_type": "execute_result"
    }
   ],
   "source": [
    "df1.columns"
   ]
  },
  {
   "cell_type": "code",
   "execution_count": 33,
   "id": "40849143",
   "metadata": {},
   "outputs": [
    {
     "data": {
      "image/png": "[encoded data removed]",
      "text/plain": [
       "<Figure size 640x480 with 1 Axes>"
      ]
     },
     "metadata": {},
     "output_type": "display_data"
    },
    {
     "data": {
      "image/png": "[encoded data removed]",
      "text/plain": [
       "<Figure size 640x480 with 1 Axes>"
      ]
     },
     "metadata": {},
     "output_type": "display_data"
    },
    {
     "data": {
      "image/png": "[encoded data removed]",
      "text/plain": [
       "<Figure size 640x480 with 1 Axes>"
      ]
     },
     "metadata": {},
     "output_type": "display_data"
    },
    {
     "data": {
      "image/png": "[encoded data removed]",
      "text/plain": [
       "<Figure size 640x480 with 1 Axes>"
      ]
     },
     "metadata": {},
     "output_type": "display_data"
    },
    {
     "data": {
      "image/png": "[encoded data removed]",
      "text/plain": [
       "<Figure size 640x480 with 1 Axes>"
      ]
     },
     "metadata": {},
     "output_type": "display_data"
    },
    {
     "data": {
      "image/png": "[encoded data removed]",
      "text/plain": [
       "<Figure size 640x480 with 1 Axes>"
      ]
     },
     "metadata": {},
     "output_type": "display_data"
    },
    {
     "data": {
      "image/png": "[encoded data removed]",
      "text/plain": [
       "<Figure size 640x480 with 1 Axes>"
      ]
     },
     "metadata": {},
     "output_type": "display_data"
    },
    {
     "data": {
      "image/png": "[encoded data removed]",
      "text/plain": [
       "<Figure size 640x480 with 1 Axes>"
      ]
     },
     "metadata": {},
     "output_type": "display_data"
    }
   ],
   "source": [
    "for i in num_cols:\n",
    "    sns.boxplot(x=df1[i])\n",
    "    plt.title(i)\n",
    "    plt.show()"
   ]
  },
  {
   "cell_type": "markdown",
   "id": "e37f1152",
   "metadata": {},
   "source": [
    "#### Inference\n",
    "1) Accerlation and Horsepower contains some outliers"
   ]
  },
  {
   "cell_type": "code",
   "execution_count": 34,
   "id": "c4d38ac2",
   "metadata": {},
   "outputs": [
    {
     "data": {
      "text/plain": [
       "Index(['origin', 'cylinders', 'displacement', 'horsepower', 'weight',\n",
       "       'acceleration', 'year', 'kpl'],\n",
       "      dtype='object')"
      ]
     },
     "execution_count": 34,
     "metadata": {},
     "output_type": "execute_result"
    }
   ],
   "source": [
    "df1.columns"
   ]
  },
  {
   "cell_type": "code",
   "execution_count": 35,
   "id": "3fdf0478",
   "metadata": {},
   "outputs": [
    {
     "name": "stderr",
     "output_type": "stream",
     "text": [
      "C:\\Users\\neela\\AppData\\Local\\Temp\\ipykernel_7636\\536700480.py:1: UserWarning: \n",
      "\n",
      "`distplot` is a deprecated function and will be removed in seaborn v0.14.0.\n",
      "\n",
      "Please adapt your code to use either `displot` (a figure-level function with\n",
      "similar flexibility) or `histplot` (an axes-level function for histograms).\n",
      "\n",
      "For a guide to updating your code to use the new functions, please see\n",
      "https://gist.github.com/mwaskom/de44147ed2974457ad6372750bbe5751\n",
      "\n",
      "  sns.distplot(df1['kpl'])\n"
     ]
    },
    {
     "data": {
      "image/png": "[encoded data removed]",
      "text/plain": [
       "<Figure size 640x480 with 1 Axes>"
      ]
     },
     "metadata": {},
     "output_type": "display_data"
    }
   ],
   "source": [
    "sns.distplot(df1['kpl'])\n",
    "plt.show()"
   ]
  },
  {
   "cell_type": "code",
   "execution_count": 36,
   "id": "38dc5848",
   "metadata": {},
   "outputs": [
    {
     "name": "stderr",
     "output_type": "stream",
     "text": [
      "C:\\Users\\neela\\AppData\\Local\\Temp\\ipykernel_7636\\916336559.py:1: UserWarning: \n",
      "\n",
      "`distplot` is a deprecated function and will be removed in seaborn v0.14.0.\n",
      "\n",
      "Please adapt your code to use either `displot` (a figure-level function with\n",
      "similar flexibility) or `histplot` (an axes-level function for histograms).\n",
      "\n",
      "For a guide to updating your code to use the new functions, please see\n",
      "https://gist.github.com/mwaskom/de44147ed2974457ad6372750bbe5751\n",
      "\n",
      "  sns.distplot(np.log(df1['kpl']))\n"
     ]
    },
    {
     "data": {
      "image/png": "[encoded data removed]",
      "text/plain": [
       "<Figure size 640x480 with 1 Axes>"
      ]
     },
     "metadata": {},
     "output_type": "display_data"
    }
   ],
   "source": [
    "sns.distplot(np.log(df1['kpl']))\n",
    "plt.show()"
   ]
  },
  {
   "cell_type": "code",
   "execution_count": 37,
   "id": "5cb6c403",
   "metadata": {},
   "outputs": [],
   "source": [
    "from scipy.stats import shapiro"
   ]
  },
  {
   "cell_type": "code",
   "execution_count": 38,
   "id": "53303807",
   "metadata": {},
   "outputs": [
    {
     "name": "stdout",
     "output_type": "stream",
     "text": [
      "ShapiroResult(statistic=0.967171311378479, pvalue=1.0501380387495374e-07)\n",
      "ShapiroResult(statistic=0.9816546440124512, pvalue=7.036902388790622e-05)\n"
     ]
    }
   ],
   "source": [
    "print(shapiro(df1['kpl']))\n",
    "print(shapiro(np.log(df1['kpl'])))"
   ]
  },
  {
   "cell_type": "markdown",
   "id": "ab431af6",
   "metadata": {},
   "source": [
    "### Bivariate Analysis"
   ]
  },
  {
   "cell_type": "code",
   "execution_count": 39,
   "id": "34dd41db",
   "metadata": {},
   "outputs": [],
   "source": [
    "# sns.pairplot(data=df1)\n",
    "# plt.show()"
   ]
  },
  {
   "cell_type": "markdown",
   "id": "e16855d5",
   "metadata": {},
   "source": [
    "#### Boxplots for mileage based on categorical columns"
   ]
  },
  {
   "cell_type": "code",
   "execution_count": 40,
   "id": "86ae16c8",
   "metadata": {},
   "outputs": [
    {
     "data": {
      "image/png": "[encoded data removed]",
      "text/plain": [
       "<Figure size 640x480 with 1 Axes>"
      ]
     },
     "metadata": {},
     "output_type": "display_data"
    },
    {
     "data": {
      "image/png": "[encoded data removed]",
      "text/plain": [
       "<Figure size 640x480 with 1 Axes>"
      ]
     },
     "metadata": {},
     "output_type": "display_data"
    },
    {
     "data": {
      "image/png": "[encoded data removed]",
      "text/plain": [
       "<Figure size 640x480 with 1 Axes>"
      ]
     },
     "metadata": {},
     "output_type": "display_data"
    }
   ],
   "source": [
    "for i in ('origin','cylinders','year'):\n",
    "    sns.boxplot(x=df1[i],y=df1['kpl'])\n",
    "    plt.title(f'{i} vs kpl - Boxplot')\n",
    "    plt.show()"
   ]
  },
  {
   "cell_type": "markdown",
   "id": "0882b60e",
   "metadata": {},
   "source": [
    "#### Inference\n",
    "1) Origin of the car affects the mileage.<br>\n",
    "2) As Number of cylinder increases, the mileage decreases.<br>\n",
    "3) Mileage increses in recent years<br>"
   ]
  },
  {
   "cell_type": "markdown",
   "id": "f5d66732",
   "metadata": {},
   "source": [
    "#### Correlation"
   ]
  },
  {
   "cell_type": "code",
   "execution_count": 41,
   "id": "1e4a302f",
   "metadata": {},
   "outputs": [
    {
     "data": {
      "text/html": [
       "<div>\n",
       "<style scoped>\n",
       "    .dataframe tbody tr th:only-of-type {\n",
       "        vertical-align: middle;\n",
       "    }\n",
       "\n",
       "    .dataframe tbody tr th {\n",
       "        vertical-align: top;\n",
       "    }\n",
       "\n",
       "    .dataframe thead th {\n",
       "        text-align: right;\n",
       "    }\n",
       "</style>\n",
       "<table border=\"1\" class=\"dataframe\">\n",
       "  <thead>\n",
       "    <tr style=\"text-align: right;\">\n",
       "      <th></th>\n",
       "      <th>origin</th>\n",
       "      <th>cylinders</th>\n",
       "      <th>displacement</th>\n",
       "      <th>horsepower</th>\n",
       "      <th>weight</th>\n",
       "      <th>acceleration</th>\n",
       "      <th>year</th>\n",
       "      <th>kpl</th>\n",
       "    </tr>\n",
       "  </thead>\n",
       "  <tbody>\n",
       "    <tr>\n",
       "      <th>origin</th>\n",
       "      <td>1.000000</td>\n",
       "      <td>-0.568932</td>\n",
       "      <td>-0.614535</td>\n",
       "      <td>-0.455171</td>\n",
       "      <td>-0.585005</td>\n",
       "      <td>0.212746</td>\n",
       "      <td>0.181528</td>\n",
       "      <td>0.565209</td>\n",
       "    </tr>\n",
       "    <tr>\n",
       "      <th>cylinders</th>\n",
       "      <td>-0.568932</td>\n",
       "      <td>1.000000</td>\n",
       "      <td>0.950823</td>\n",
       "      <td>0.842983</td>\n",
       "      <td>0.897527</td>\n",
       "      <td>-0.504683</td>\n",
       "      <td>-0.345647</td>\n",
       "      <td>-0.777618</td>\n",
       "    </tr>\n",
       "    <tr>\n",
       "      <th>displacement</th>\n",
       "      <td>-0.614535</td>\n",
       "      <td>0.950823</td>\n",
       "      <td>1.000000</td>\n",
       "      <td>0.897257</td>\n",
       "      <td>0.932994</td>\n",
       "      <td>-0.543800</td>\n",
       "      <td>-0.369855</td>\n",
       "      <td>-0.805127</td>\n",
       "    </tr>\n",
       "    <tr>\n",
       "      <th>horsepower</th>\n",
       "      <td>-0.455171</td>\n",
       "      <td>0.842983</td>\n",
       "      <td>0.897257</td>\n",
       "      <td>1.000000</td>\n",
       "      <td>0.864538</td>\n",
       "      <td>-0.689196</td>\n",
       "      <td>-0.416361</td>\n",
       "      <td>-0.778427</td>\n",
       "    </tr>\n",
       "    <tr>\n",
       "      <th>weight</th>\n",
       "      <td>-0.585005</td>\n",
       "      <td>0.897527</td>\n",
       "      <td>0.932994</td>\n",
       "      <td>0.864538</td>\n",
       "      <td>1.000000</td>\n",
       "      <td>-0.416839</td>\n",
       "      <td>-0.309120</td>\n",
       "      <td>-0.832244</td>\n",
       "    </tr>\n",
       "    <tr>\n",
       "      <th>acceleration</th>\n",
       "      <td>0.212746</td>\n",
       "      <td>-0.504683</td>\n",
       "      <td>-0.543800</td>\n",
       "      <td>-0.689196</td>\n",
       "      <td>-0.416839</td>\n",
       "      <td>1.000000</td>\n",
       "      <td>0.290316</td>\n",
       "      <td>0.423329</td>\n",
       "    </tr>\n",
       "    <tr>\n",
       "      <th>year</th>\n",
       "      <td>0.181528</td>\n",
       "      <td>-0.345647</td>\n",
       "      <td>-0.369855</td>\n",
       "      <td>-0.416361</td>\n",
       "      <td>-0.309120</td>\n",
       "      <td>0.290316</td>\n",
       "      <td>1.000000</td>\n",
       "      <td>0.580541</td>\n",
       "    </tr>\n",
       "    <tr>\n",
       "      <th>kpl</th>\n",
       "      <td>0.565209</td>\n",
       "      <td>-0.777618</td>\n",
       "      <td>-0.805127</td>\n",
       "      <td>-0.778427</td>\n",
       "      <td>-0.832244</td>\n",
       "      <td>0.423329</td>\n",
       "      <td>0.580541</td>\n",
       "      <td>1.000000</td>\n",
       "    </tr>\n",
       "  </tbody>\n",
       "</table>\n",
       "</div>"
      ],
      "text/plain": [
       "                origin  cylinders  displacement  horsepower    weight  \\\n",
       "origin        1.000000  -0.568932     -0.614535   -0.455171 -0.585005   \n",
       "cylinders    -0.568932   1.000000      0.950823    0.842983  0.897527   \n",
       "displacement -0.614535   0.950823      1.000000    0.897257  0.932994   \n",
       "horsepower   -0.455171   0.842983      0.897257    1.000000  0.864538   \n",
       "weight       -0.585005   0.897527      0.932994    0.864538  1.000000   \n",
       "acceleration  0.212746  -0.504683     -0.543800   -0.689196 -0.416839   \n",
       "year          0.181528  -0.345647     -0.369855   -0.416361 -0.309120   \n",
       "kpl           0.565209  -0.777618     -0.805127   -0.778427 -0.832244   \n",
       "\n",
       "              acceleration      year       kpl  \n",
       "origin            0.212746  0.181528  0.565209  \n",
       "cylinders        -0.504683 -0.345647 -0.777618  \n",
       "displacement     -0.543800 -0.369855 -0.805127  \n",
       "horsepower       -0.689196 -0.416361 -0.778427  \n",
       "weight           -0.416839 -0.309120 -0.832244  \n",
       "acceleration      1.000000  0.290316  0.423329  \n",
       "year              0.290316  1.000000  0.580541  \n",
       "kpl               0.423329  0.580541  1.000000  "
      ]
     },
     "execution_count": 41,
     "metadata": {},
     "output_type": "execute_result"
    }
   ],
   "source": [
    "corr = df1.corr()\n",
    "corr"
   ]
  },
  {
   "cell_type": "code",
   "execution_count": 42,
   "id": "16d8d41d",
   "metadata": {},
   "outputs": [
    {
     "data": {
      "image/png": "[encoded data removed]",
      "text/plain": [
       "<Figure size 700x600 with 2 Axes>"
      ]
     },
     "metadata": {},
     "output_type": "display_data"
    }
   ],
   "source": [
    "plt.figure(figsize=(7,6))\n",
    "sns.heatmap(corr,annot=True,cmap='RdBu')\n",
    "plt.show()"
   ]
  },
  {
   "cell_type": "code",
   "execution_count": 43,
   "id": "8d4893e6",
   "metadata": {},
   "outputs": [
    {
     "data": {
      "image/png": "[encoded data removed]",
      "text/plain": [
       "<Figure size 700x600 with 2 Axes>"
      ]
     },
     "metadata": {},
     "output_type": "display_data"
    }
   ],
   "source": [
    "plt.figure(figsize=(7,6))\n",
    "sns.heatmap(corr[abs(corr)>0.7],annot=True,cmap='RdBu')\n",
    "plt.show()"
   ]
  },
  {
   "cell_type": "code",
   "execution_count": 44,
   "id": "e3f81df3",
   "metadata": {},
   "outputs": [],
   "source": [
    "### Multicollinearity exists between\n",
    "# 1) horsepwoer and weight\n",
    "# 2) horsepower and displacement\n",
    "# 3) cylinder and horsepower\n",
    "# 4) cylinder and weight\n",
    "# 5) cylinder and displacement"
   ]
  },
  {
   "cell_type": "markdown",
   "id": "16409935",
   "metadata": {},
   "source": [
    "### Outlier Treatment"
   ]
  },
  {
   "cell_type": "code",
   "execution_count": 45,
   "id": "61ce7be0",
   "metadata": {},
   "outputs": [
    {
     "data": {
      "text/html": [
       "<div>\n",
       "<style scoped>\n",
       "    .dataframe tbody tr th:only-of-type {\n",
       "        vertical-align: middle;\n",
       "    }\n",
       "\n",
       "    .dataframe tbody tr th {\n",
       "        vertical-align: top;\n",
       "    }\n",
       "\n",
       "    .dataframe thead th {\n",
       "        text-align: right;\n",
       "    }\n",
       "</style>\n",
       "<table border=\"1\" class=\"dataframe\">\n",
       "  <thead>\n",
       "    <tr style=\"text-align: right;\">\n",
       "      <th></th>\n",
       "      <th>count</th>\n",
       "      <th>mean</th>\n",
       "      <th>std</th>\n",
       "      <th>min</th>\n",
       "      <th>1%</th>\n",
       "      <th>2%</th>\n",
       "      <th>3%</th>\n",
       "      <th>5%</th>\n",
       "      <th>50%</th>\n",
       "      <th>75%</th>\n",
       "      <th>95%</th>\n",
       "      <th>97%</th>\n",
       "      <th>98%</th>\n",
       "      <th>99%</th>\n",
       "      <th>max</th>\n",
       "    </tr>\n",
       "  </thead>\n",
       "  <tbody>\n",
       "    <tr>\n",
       "      <th>origin</th>\n",
       "      <td>392.0</td>\n",
       "      <td>1.576531</td>\n",
       "      <td>0.805518</td>\n",
       "      <td>1.000000</td>\n",
       "      <td>1.000000</td>\n",
       "      <td>1.000000</td>\n",
       "      <td>1.000000</td>\n",
       "      <td>1.000000</td>\n",
       "      <td>1.000000</td>\n",
       "      <td>2.000000</td>\n",
       "      <td>3.000000</td>\n",
       "      <td>3.00000</td>\n",
       "      <td>3.000000</td>\n",
       "      <td>3.000000</td>\n",
       "      <td>3.000000</td>\n",
       "    </tr>\n",
       "    <tr>\n",
       "      <th>cylinders</th>\n",
       "      <td>392.0</td>\n",
       "      <td>5.471939</td>\n",
       "      <td>1.705783</td>\n",
       "      <td>3.000000</td>\n",
       "      <td>3.910000</td>\n",
       "      <td>4.000000</td>\n",
       "      <td>4.000000</td>\n",
       "      <td>4.000000</td>\n",
       "      <td>4.000000</td>\n",
       "      <td>8.000000</td>\n",
       "      <td>8.000000</td>\n",
       "      <td>8.00000</td>\n",
       "      <td>8.000000</td>\n",
       "      <td>8.000000</td>\n",
       "      <td>8.000000</td>\n",
       "    </tr>\n",
       "    <tr>\n",
       "      <th>displacement</th>\n",
       "      <td>392.0</td>\n",
       "      <td>194.411990</td>\n",
       "      <td>104.644004</td>\n",
       "      <td>68.000000</td>\n",
       "      <td>70.910000</td>\n",
       "      <td>77.640000</td>\n",
       "      <td>79.000000</td>\n",
       "      <td>85.000000</td>\n",
       "      <td>151.000000</td>\n",
       "      <td>275.750000</td>\n",
       "      <td>400.000000</td>\n",
       "      <td>400.00000</td>\n",
       "      <td>429.000000</td>\n",
       "      <td>441.260000</td>\n",
       "      <td>455.000000</td>\n",
       "    </tr>\n",
       "    <tr>\n",
       "      <th>horsepower</th>\n",
       "      <td>392.0</td>\n",
       "      <td>104.469388</td>\n",
       "      <td>38.491160</td>\n",
       "      <td>46.000000</td>\n",
       "      <td>48.000000</td>\n",
       "      <td>52.000000</td>\n",
       "      <td>53.730000</td>\n",
       "      <td>60.550000</td>\n",
       "      <td>93.500000</td>\n",
       "      <td>126.000000</td>\n",
       "      <td>180.000000</td>\n",
       "      <td>198.00000</td>\n",
       "      <td>210.900000</td>\n",
       "      <td>220.450000</td>\n",
       "      <td>230.000000</td>\n",
       "    </tr>\n",
       "    <tr>\n",
       "      <th>weight</th>\n",
       "      <td>392.0</td>\n",
       "      <td>2977.584184</td>\n",
       "      <td>849.402560</td>\n",
       "      <td>1613.000000</td>\n",
       "      <td>1771.830000</td>\n",
       "      <td>1800.000000</td>\n",
       "      <td>1834.730000</td>\n",
       "      <td>1931.600000</td>\n",
       "      <td>2803.500000</td>\n",
       "      <td>3614.750000</td>\n",
       "      <td>4464.000000</td>\n",
       "      <td>4654.81000</td>\n",
       "      <td>4732.540000</td>\n",
       "      <td>4951.090000</td>\n",
       "      <td>5140.000000</td>\n",
       "    </tr>\n",
       "    <tr>\n",
       "      <th>acceleration</th>\n",
       "      <td>392.0</td>\n",
       "      <td>15.541327</td>\n",
       "      <td>2.758864</td>\n",
       "      <td>8.000000</td>\n",
       "      <td>9.455000</td>\n",
       "      <td>10.000000</td>\n",
       "      <td>11.000000</td>\n",
       "      <td>11.255000</td>\n",
       "      <td>15.500000</td>\n",
       "      <td>17.025000</td>\n",
       "      <td>20.235000</td>\n",
       "      <td>21.00000</td>\n",
       "      <td>21.818000</td>\n",
       "      <td>22.317000</td>\n",
       "      <td>24.800000</td>\n",
       "    </tr>\n",
       "    <tr>\n",
       "      <th>year</th>\n",
       "      <td>392.0</td>\n",
       "      <td>1975.979592</td>\n",
       "      <td>3.683737</td>\n",
       "      <td>1970.000000</td>\n",
       "      <td>1970.000000</td>\n",
       "      <td>1970.000000</td>\n",
       "      <td>1970.000000</td>\n",
       "      <td>1970.000000</td>\n",
       "      <td>1976.000000</td>\n",
       "      <td>1979.000000</td>\n",
       "      <td>1982.000000</td>\n",
       "      <td>1982.00000</td>\n",
       "      <td>1982.000000</td>\n",
       "      <td>1982.000000</td>\n",
       "      <td>1982.000000</td>\n",
       "    </tr>\n",
       "    <tr>\n",
       "      <th>kpl</th>\n",
       "      <td>392.0</td>\n",
       "      <td>9.967885</td>\n",
       "      <td>3.318250</td>\n",
       "      <td>3.826293</td>\n",
       "      <td>4.676581</td>\n",
       "      <td>5.101724</td>\n",
       "      <td>5.101724</td>\n",
       "      <td>5.526868</td>\n",
       "      <td>9.672019</td>\n",
       "      <td>12.329168</td>\n",
       "      <td>15.730317</td>\n",
       "      <td>16.16694</td>\n",
       "      <td>16.857798</td>\n",
       "      <td>18.474195</td>\n",
       "      <td>19.811697</td>\n",
       "    </tr>\n",
       "  </tbody>\n",
       "</table>\n",
       "</div>"
      ],
      "text/plain": [
       "              count         mean         std          min           1%  \\\n",
       "origin        392.0     1.576531    0.805518     1.000000     1.000000   \n",
       "cylinders     392.0     5.471939    1.705783     3.000000     3.910000   \n",
       "displacement  392.0   194.411990  104.644004    68.000000    70.910000   \n",
       "horsepower    392.0   104.469388   38.491160    46.000000    48.000000   \n",
       "weight        392.0  2977.584184  849.402560  1613.000000  1771.830000   \n",
       "acceleration  392.0    15.541327    2.758864     8.000000     9.455000   \n",
       "year          392.0  1975.979592    3.683737  1970.000000  1970.000000   \n",
       "kpl           392.0     9.967885    3.318250     3.826293     4.676581   \n",
       "\n",
       "                       2%           3%           5%          50%          75%  \\\n",
       "origin           1.000000     1.000000     1.000000     1.000000     2.000000   \n",
       "cylinders        4.000000     4.000000     4.000000     4.000000     8.000000   \n",
       "displacement    77.640000    79.000000    85.000000   151.000000   275.750000   \n",
       "horsepower      52.000000    53.730000    60.550000    93.500000   126.000000   \n",
       "weight        1800.000000  1834.730000  1931.600000  2803.500000  3614.750000   \n",
       "acceleration    10.000000    11.000000    11.255000    15.500000    17.025000   \n",
       "year          1970.000000  1970.000000  1970.000000  1976.000000  1979.000000   \n",
       "kpl              5.101724     5.101724     5.526868     9.672019    12.329168   \n",
       "\n",
       "                      95%         97%          98%          99%          max  \n",
       "origin           3.000000     3.00000     3.000000     3.000000     3.000000  \n",
       "cylinders        8.000000     8.00000     8.000000     8.000000     8.000000  \n",
       "displacement   400.000000   400.00000   429.000000   441.260000   455.000000  \n",
       "horsepower     180.000000   198.00000   210.900000   220.450000   230.000000  \n",
       "weight        4464.000000  4654.81000  4732.540000  4951.090000  5140.000000  \n",
       "acceleration    20.235000    21.00000    21.818000    22.317000    24.800000  \n",
       "year          1982.000000  1982.00000  1982.000000  1982.000000  1982.000000  \n",
       "kpl             15.730317    16.16694    16.857798    18.474195    19.811697  "
      ]
     },
     "execution_count": 45,
     "metadata": {},
     "output_type": "execute_result"
    }
   ],
   "source": [
    "df1.describe(percentiles=[0.01,0.02,0.03,0.05,0.75,0.95,0.97,0.98,0.99]).T"
   ]
  },
  {
   "cell_type": "markdown",
   "id": "8ca2ceb3",
   "metadata": {},
   "source": [
    "#### There are minimal outliers"
   ]
  },
  {
   "cell_type": "code",
   "execution_count": 46,
   "id": "fff0a225",
   "metadata": {},
   "outputs": [],
   "source": [
    "df2 = df1.copy()"
   ]
  },
  {
   "cell_type": "code",
   "execution_count": 47,
   "id": "23df93a5",
   "metadata": {},
   "outputs": [],
   "source": [
    "def outlier_treatment(x):\n",
    "    x = x.clip(upper=x.quantile(0.99))\n",
    "    y = x.clip(lower=x.quantile(0.01))\n",
    "    return x\n"
   ]
  },
  {
   "cell_type": "code",
   "execution_count": 48,
   "id": "1d6f2564",
   "metadata": {},
   "outputs": [],
   "source": [
    "df1[['acceleration' , 'horsepower']] = df1[['acceleration','horsepower']].apply(outlier_treatment)"
   ]
  },
  {
   "cell_type": "code",
   "execution_count": null,
   "id": "e31cb948",
   "metadata": {},
   "outputs": [],
   "source": []
  },
  {
   "cell_type": "markdown",
   "id": "0d128a12",
   "metadata": {},
   "source": [
    "# Model Building"
   ]
  },
  {
   "cell_type": "markdown",
   "id": "4e1e68c9",
   "metadata": {},
   "source": [
    "### 1) OLS Model"
   ]
  },
  {
   "cell_type": "code",
   "execution_count": 49,
   "id": "8a01430d",
   "metadata": {},
   "outputs": [
    {
     "data": {
      "text/plain": [
       "Index(['origin', 'cylinders', 'displacement', 'horsepower', 'weight',\n",
       "       'acceleration', 'year', 'kpl'],\n",
       "      dtype='object')"
      ]
     },
     "execution_count": 49,
     "metadata": {},
     "output_type": "execute_result"
    }
   ],
   "source": [
    "df1.columns"
   ]
  },
  {
   "cell_type": "code",
   "execution_count": 50,
   "id": "c8ee1b0b",
   "metadata": {},
   "outputs": [
    {
     "data": {
      "text/plain": [
       "origin            int64\n",
       "cylinders         int64\n",
       "displacement    float64\n",
       "horsepower      float64\n",
       "weight            int64\n",
       "acceleration    float64\n",
       "year              int64\n",
       "kpl             float64\n",
       "dtype: object"
      ]
     },
     "execution_count": 50,
     "metadata": {},
     "output_type": "execute_result"
    }
   ],
   "source": [
    "df1.dtypes"
   ]
  },
  {
   "cell_type": "code",
   "execution_count": 51,
   "id": "5d51fc3a",
   "metadata": {},
   "outputs": [],
   "source": [
    "from statsmodels.formula.api import ols"
   ]
  },
  {
   "cell_type": "code",
   "execution_count": 52,
   "id": "d28b2c18",
   "metadata": {},
   "outputs": [
    {
     "name": "stdout",
     "output_type": "stream",
     "text": [
      "                            OLS Regression Results                            \n",
      "==============================================================================\n",
      "Dep. Variable:                    kpl   R-squared:                       0.821\n",
      "Model:                            OLS   Adj. R-squared:                  0.818\n",
      "Method:                 Least Squares   F-statistic:                     252.2\n",
      "Date:                Thu, 15 Jun 2023   Prob (F-statistic):          2.34e-139\n",
      "Time:                        15:43:38   Log-Likelihood:                -688.33\n",
      "No. Observations:                 392   AIC:                             1393.\n",
      "Df Residuals:                     384   BIC:                             1424.\n",
      "Df Model:                           7                                         \n",
      "Covariance Type:            nonrobust                                         \n",
      "================================================================================\n",
      "                   coef    std err          t      P>|t|      [0.025      0.975]\n",
      "--------------------------------------------------------------------------------\n",
      "Intercept     -611.6231     43.003    -14.223      0.000    -696.174    -527.072\n",
      "origin           0.6084      0.118      5.145      0.000       0.376       0.841\n",
      "cylinders       -0.2117      0.137     -1.542      0.124      -0.482       0.058\n",
      "displacement     0.0084      0.003      2.621      0.009       0.002       0.015\n",
      "horsepower      -0.0089      0.006     -1.496      0.136      -0.021       0.003\n",
      "weight          -0.0027      0.000     -9.627      0.000      -0.003      -0.002\n",
      "acceleration     0.0179      0.044      0.411      0.681      -0.068       0.103\n",
      "year             0.3182      0.022     14.663      0.000       0.276       0.361\n",
      "==============================================================================\n",
      "Omnibus:                       33.631   Durbin-Watson:                   1.309\n",
      "Prob(Omnibus):                  0.000   Jarque-Bera (JB):               57.432\n",
      "Skew:                           0.545   Prob(JB):                     3.38e-13\n",
      "Kurtosis:                       4.526   Cond. No.                     2.20e+06\n",
      "==============================================================================\n",
      "\n",
      "Notes:\n",
      "[1] Standard Errors assume that the covariance matrix of the errors is correctly specified.\n",
      "[2] The condition number is large, 2.2e+06. This might indicate that there are\n",
      "strong multicollinearity or other numerical problems.\n"
     ]
    }
   ],
   "source": [
    "ols_m1 = ols(formula='kpl ~ origin + cylinders + displacement + horsepower + \\\n",
    "            weight + acceleration + year',data=df1).fit()\n",
    "print(ols_m1.summary())"
   ]
  },
  {
   "cell_type": "code",
   "execution_count": 53,
   "id": "c1b37299",
   "metadata": {},
   "outputs": [
    {
     "name": "stdout",
     "output_type": "stream",
     "text": [
      "0.821347915717041\n",
      "0.8180912370972996\n"
     ]
    }
   ],
   "source": [
    "print(ols_m1.rsquared)\n",
    "print(ols_m1.rsquared_adj)"
   ]
  },
  {
   "cell_type": "markdown",
   "id": "782fa643",
   "metadata": {},
   "source": [
    "#### OLS model after removing acceleration "
   ]
  },
  {
   "cell_type": "code",
   "execution_count": 54,
   "id": "2ee789af",
   "metadata": {},
   "outputs": [
    {
     "name": "stdout",
     "output_type": "stream",
     "text": [
      "                            OLS Regression Results                            \n",
      "==============================================================================\n",
      "Dep. Variable:                    kpl   R-squared:                       0.821\n",
      "Model:                            OLS   Adj. R-squared:                  0.818\n",
      "Method:                 Least Squares   F-statistic:                     294.8\n",
      "Date:                Thu, 15 Jun 2023   Prob (F-statistic):          1.42e-140\n",
      "Time:                        15:43:41   Log-Likelihood:                -688.42\n",
      "No. Observations:                 392   AIC:                             1391.\n",
      "Df Residuals:                     385   BIC:                             1419.\n",
      "Df Model:                           6                                         \n",
      "Covariance Type:            nonrobust                                         \n",
      "================================================================================\n",
      "                   coef    std err          t      P>|t|      [0.025      0.975]\n",
      "--------------------------------------------------------------------------------\n",
      "Intercept     -609.7872     42.724    -14.273      0.000    -693.789    -525.785\n",
      "origin           0.6087      0.118      5.153      0.000       0.376       0.841\n",
      "cylinders       -0.2141      0.137     -1.562      0.119      -0.484       0.055\n",
      "displacement     0.0082      0.003      2.594      0.010       0.002       0.014\n",
      "horsepower      -0.0105      0.005     -2.254      0.025      -0.020      -0.001\n",
      "weight          -0.0026      0.000    -10.835      0.000      -0.003      -0.002\n",
      "year             0.3175      0.022     14.699      0.000       0.275       0.360\n",
      "==============================================================================\n",
      "Omnibus:                       35.203   Durbin-Watson:                   1.309\n",
      "Prob(Omnibus):                  0.000   Jarque-Bera (JB):               61.632\n",
      "Skew:                           0.558   Prob(JB):                     4.14e-14\n",
      "Kurtosis:                       4.590   Cond. No.                     2.18e+06\n",
      "==============================================================================\n",
      "\n",
      "Notes:\n",
      "[1] Standard Errors assume that the covariance matrix of the errors is correctly specified.\n",
      "[2] The condition number is large, 2.18e+06. This might indicate that there are\n",
      "strong multicollinearity or other numerical problems.\n"
     ]
    }
   ],
   "source": [
    "ols_m2 = ols(formula='kpl ~ origin + cylinders + displacement + horsepower + \\\n",
    "            weight + year',data=df1).fit()\n",
    "print(ols_m2.summary())"
   ]
  },
  {
   "cell_type": "code",
   "execution_count": 55,
   "id": "3cc8be6f",
   "metadata": {},
   "outputs": [
    {
     "name": "stdout",
     "output_type": "stream",
     "text": [
      "0.821347915717041\n",
      "0.8180912370972996\n",
      "\n",
      "0.8212693679637935\n",
      "0.818483955516476\n"
     ]
    }
   ],
   "source": [
    "print(ols_m1.rsquared)\n",
    "print(ols_m1.rsquared_adj)\n",
    "print()\n",
    "print(ols_m2.rsquared)\n",
    "print(ols_m2.rsquared_adj)"
   ]
  },
  {
   "cell_type": "code",
   "execution_count": 56,
   "id": "58e295b2",
   "metadata": {},
   "outputs": [
    {
     "name": "stdout",
     "output_type": "stream",
     "text": [
      "2.3421589789557033e-139\n",
      "1.4217541652036225e-140\n"
     ]
    }
   ],
   "source": [
    "print(ols_m1.f_pvalue)\n",
    "print(ols_m2.f_pvalue)"
   ]
  },
  {
   "cell_type": "markdown",
   "id": "934ceb56",
   "metadata": {},
   "source": [
    "#### Note\n",
    "1) Removal of insignificant variables causes the adjusted R2 to increase.<br>\n",
    "2) After removal of acceleration, Adjusted R2 has increased.<br>\n",
    "3) Significance of model is determined by f_pvalue.<pre>\n",
    "    a) If f_pvalue>0.05 => Model is not Significant\n",
    "    b) If f_pvalue<=0.05 => Model is Significant</pre>"
   ]
  },
  {
   "cell_type": "code",
   "execution_count": 57,
   "id": "ae2e97d8",
   "metadata": {},
   "outputs": [],
   "source": [
    "import statsmodels.api as sm"
   ]
  },
  {
   "cell_type": "code",
   "execution_count": 58,
   "id": "ffd067cb",
   "metadata": {},
   "outputs": [
    {
     "name": "stdout",
     "output_type": "stream",
     "text": [
      "(392, 7) (392,)\n",
      "<class 'pandas.core.series.Series'>\n"
     ]
    }
   ],
   "source": [
    "x = df1.iloc[:,:-1]\n",
    "y = df1.iloc[:,-1]\n",
    "print(x.shape,y.shape)\n",
    "print(type(y))"
   ]
  },
  {
   "cell_type": "code",
   "execution_count": 59,
   "id": "099891e6",
   "metadata": {},
   "outputs": [
    {
     "name": "stdout",
     "output_type": "stream",
     "text": [
      "                            OLS Regression Results                            \n",
      "==============================================================================\n",
      "Dep. Variable:                    kpl   R-squared:                       0.880\n",
      "Model:                            OLS   Adj. R-squared:                  0.878\n",
      "Method:                 Least Squares   F-statistic:                     401.5\n",
      "Date:                Thu, 15 Jun 2023   Prob (F-statistic):          2.51e-172\n",
      "Time:                        15:43:55   Log-Likelihood:                 282.37\n",
      "No. Observations:                 392   AIC:                            -548.7\n",
      "Df Residuals:                     384   BIC:                            -517.0\n",
      "Df Model:                           7                                         \n",
      "Covariance Type:            nonrobust                                         \n",
      "================================================================================\n",
      "                   coef    std err          t      P>|t|      [0.025      0.975]\n",
      "--------------------------------------------------------------------------------\n",
      "const          -55.0630      3.615    -15.233      0.000     -62.170     -47.956\n",
      "origin           0.0409      0.010      4.114      0.000       0.021       0.060\n",
      "cylinders       -0.0279      0.012     -2.417      0.016      -0.051      -0.005\n",
      "displacement     0.0006      0.000      2.334      0.020    9.85e-05       0.001\n",
      "horsepower      -0.0016      0.001     -3.259      0.001      -0.003      -0.001\n",
      "weight          -0.0002   2.35e-05    -10.620      0.000      -0.000      -0.000\n",
      "acceleration    -0.0028      0.004     -0.756      0.450      -0.010       0.004\n",
      "year             0.0295      0.002     16.154      0.000       0.026       0.033\n",
      "==============================================================================\n",
      "Omnibus:                        8.100   Durbin-Watson:                   1.398\n",
      "Prob(Omnibus):                  0.017   Jarque-Bera (JB):               11.507\n",
      "Skew:                          -0.144   Prob(JB):                      0.00317\n",
      "Kurtosis:                       3.788   Cond. No.                     2.20e+06\n",
      "==============================================================================\n",
      "\n",
      "Notes:\n",
      "[1] Standard Errors assume that the covariance matrix of the errors is correctly specified.\n",
      "[2] The condition number is large, 2.2e+06. This might indicate that there are\n",
      "strong multicollinearity or other numerical problems.\n"
     ]
    }
   ],
   "source": [
    "x = sm.add_constant(x)       # adding a constant\n",
    "model1 = sm.OLS(np.log(y),x).fit()\n",
    "\n",
    "print(model1.summary())"
   ]
  },
  {
   "cell_type": "code",
   "execution_count": 60,
   "id": "1fcd1163",
   "metadata": {},
   "outputs": [
    {
     "data": {
      "text/plain": [
       "Index(['origin', 'cylinders', 'displacement', 'horsepower', 'weight',\n",
       "       'acceleration', 'year', 'kpl'],\n",
       "      dtype='object')"
      ]
     },
     "execution_count": 60,
     "metadata": {},
     "output_type": "execute_result"
    }
   ],
   "source": [
    "df1.columns"
   ]
  },
  {
   "cell_type": "markdown",
   "id": "ae86613f",
   "metadata": {},
   "source": [
    "#### OLS model with log(y) as dependent variable and acceleration removed from independent features"
   ]
  },
  {
   "cell_type": "code",
   "execution_count": 61,
   "id": "644d4504",
   "metadata": {},
   "outputs": [
    {
     "name": "stdout",
     "output_type": "stream",
     "text": [
      "Index(['origin', 'cylinders', 'displacement', 'horsepower', 'weight', 'year'], dtype='object')\n",
      "(392, 6) (392,)\n",
      "<class 'pandas.core.series.Series'>\n"
     ]
    }
   ],
   "source": [
    "x2 = df1.iloc[:,[0,1,2,3,4,6]]\n",
    "print(x2.columns)\n",
    "y2 = df1.iloc[:,-1]\n",
    "print(x2.shape,y2.shape)\n",
    "print(type(y2))"
   ]
  },
  {
   "cell_type": "code",
   "execution_count": 62,
   "id": "f28973cd",
   "metadata": {},
   "outputs": [
    {
     "name": "stdout",
     "output_type": "stream",
     "text": [
      "                            OLS Regression Results                            \n",
      "==============================================================================\n",
      "Dep. Variable:                    kpl   R-squared:                       0.880\n",
      "Model:                            OLS   Adj. R-squared:                  0.878\n",
      "Method:                 Least Squares   F-statistic:                     468.9\n",
      "Date:                Thu, 15 Jun 2023   Prob (F-statistic):          1.48e-173\n",
      "Time:                        15:44:11   Log-Likelihood:                 282.08\n",
      "No. Observations:                 392   AIC:                            -550.2\n",
      "Df Residuals:                     385   BIC:                            -522.4\n",
      "Df Model:                           6                                         \n",
      "Covariance Type:            nonrobust                                         \n",
      "================================================================================\n",
      "                   coef    std err          t      P>|t|      [0.025      0.975]\n",
      "--------------------------------------------------------------------------------\n",
      "const          -55.3469      3.593    -15.404      0.000     -62.412     -48.282\n",
      "origin           0.0409      0.010      4.112      0.000       0.021       0.060\n",
      "cylinders       -0.0275      0.012     -2.389      0.017      -0.050      -0.005\n",
      "displacement     0.0006      0.000      2.436      0.015       0.000       0.001\n",
      "horsepower      -0.0014      0.000     -3.578      0.000      -0.002      -0.001\n",
      "weight          -0.0003   2.05e-05    -12.631      0.000      -0.000      -0.000\n",
      "year             0.0296      0.002     16.289      0.000       0.026       0.033\n",
      "==============================================================================\n",
      "Omnibus:                        7.719   Durbin-Watson:                   1.397\n",
      "Prob(Omnibus):                  0.021   Jarque-Bera (JB):               10.304\n",
      "Skew:                          -0.162   Prob(JB):                      0.00579\n",
      "Kurtosis:                       3.725   Cond. No.                     2.18e+06\n",
      "==============================================================================\n",
      "\n",
      "Notes:\n",
      "[1] Standard Errors assume that the covariance matrix of the errors is correctly specified.\n",
      "[2] The condition number is large, 2.18e+06. This might indicate that there are\n",
      "strong multicollinearity or other numerical problems.\n"
     ]
    }
   ],
   "source": [
    "x2 = sm.add_constant(x2)  # adding a constant\n",
    "model2 = sm.OLS(np.log(y2),x2).fit()\n",
    "\n",
    "print(model2.summary())"
   ]
  },
  {
   "cell_type": "code",
   "execution_count": 63,
   "id": "55d1e3d1",
   "metadata": {},
   "outputs": [
    {
     "name": "stdout",
     "output_type": "stream",
     "text": [
      "0.8776082600918149\n",
      "0.8777444316743389\n"
     ]
    }
   ],
   "source": [
    "print(model1.rsquared_adj)\n",
    "print(model2.rsquared_adj)"
   ]
  },
  {
   "cell_type": "markdown",
   "id": "b03f9ddf",
   "metadata": {},
   "source": [
    "### 2) LinearRegression"
   ]
  },
  {
   "cell_type": "code",
   "execution_count": 64,
   "id": "0d0b0b80",
   "metadata": {},
   "outputs": [
    {
     "data": {
      "text/html": [
       "<div>\n",
       "<style scoped>\n",
       "    .dataframe tbody tr th:only-of-type {\n",
       "        vertical-align: middle;\n",
       "    }\n",
       "\n",
       "    .dataframe tbody tr th {\n",
       "        vertical-align: top;\n",
       "    }\n",
       "\n",
       "    .dataframe thead th {\n",
       "        text-align: right;\n",
       "    }\n",
       "</style>\n",
       "<table border=\"1\" class=\"dataframe\">\n",
       "  <thead>\n",
       "    <tr style=\"text-align: right;\">\n",
       "      <th></th>\n",
       "      <th>origin</th>\n",
       "      <th>cylinders</th>\n",
       "      <th>displacement</th>\n",
       "      <th>horsepower</th>\n",
       "      <th>weight</th>\n",
       "      <th>acceleration</th>\n",
       "      <th>year</th>\n",
       "      <th>kpl</th>\n",
       "    </tr>\n",
       "  </thead>\n",
       "  <tbody>\n",
       "    <tr>\n",
       "      <th>0</th>\n",
       "      <td>1</td>\n",
       "      <td>8</td>\n",
       "      <td>307.0</td>\n",
       "      <td>130.0</td>\n",
       "      <td>3504</td>\n",
       "      <td>12.0</td>\n",
       "      <td>1970</td>\n",
       "      <td>7.652587</td>\n",
       "    </tr>\n",
       "    <tr>\n",
       "      <th>1</th>\n",
       "      <td>1</td>\n",
       "      <td>8</td>\n",
       "      <td>350.0</td>\n",
       "      <td>165.0</td>\n",
       "      <td>3693</td>\n",
       "      <td>11.5</td>\n",
       "      <td>1970</td>\n",
       "      <td>6.377156</td>\n",
       "    </tr>\n",
       "    <tr>\n",
       "      <th>2</th>\n",
       "      <td>1</td>\n",
       "      <td>8</td>\n",
       "      <td>318.0</td>\n",
       "      <td>150.0</td>\n",
       "      <td>3436</td>\n",
       "      <td>11.0</td>\n",
       "      <td>1970</td>\n",
       "      <td>7.652587</td>\n",
       "    </tr>\n",
       "    <tr>\n",
       "      <th>3</th>\n",
       "      <td>1</td>\n",
       "      <td>8</td>\n",
       "      <td>304.0</td>\n",
       "      <td>150.0</td>\n",
       "      <td>3433</td>\n",
       "      <td>12.0</td>\n",
       "      <td>1970</td>\n",
       "      <td>6.802299</td>\n",
       "    </tr>\n",
       "    <tr>\n",
       "      <th>4</th>\n",
       "      <td>1</td>\n",
       "      <td>8</td>\n",
       "      <td>302.0</td>\n",
       "      <td>140.0</td>\n",
       "      <td>3449</td>\n",
       "      <td>10.5</td>\n",
       "      <td>1970</td>\n",
       "      <td>7.227443</td>\n",
       "    </tr>\n",
       "  </tbody>\n",
       "</table>\n",
       "</div>"
      ],
      "text/plain": [
       "   origin  cylinders  displacement  horsepower  weight  acceleration  year  \\\n",
       "0       1          8         307.0       130.0    3504          12.0  1970   \n",
       "1       1          8         350.0       165.0    3693          11.5  1970   \n",
       "2       1          8         318.0       150.0    3436          11.0  1970   \n",
       "3       1          8         304.0       150.0    3433          12.0  1970   \n",
       "4       1          8         302.0       140.0    3449          10.5  1970   \n",
       "\n",
       "        kpl  \n",
       "0  7.652587  \n",
       "1  6.377156  \n",
       "2  7.652587  \n",
       "3  6.802299  \n",
       "4  7.227443  "
      ]
     },
     "execution_count": 64,
     "metadata": {},
     "output_type": "execute_result"
    }
   ],
   "source": [
    "df1.head()"
   ]
  },
  {
   "cell_type": "code",
   "execution_count": 65,
   "id": "74fa933d",
   "metadata": {},
   "outputs": [
    {
     "name": "stdout",
     "output_type": "stream",
     "text": [
      "(392, 7) (392,)\n",
      "<class 'pandas.core.series.Series'>\n"
     ]
    }
   ],
   "source": [
    "# selecting all features\n",
    "x = df1.iloc[:,:-1]\n",
    "y = df1.iloc[:,-1]\n",
    "print(x.shape,y.shape)\n",
    "print(type(y))"
   ]
  },
  {
   "cell_type": "code",
   "execution_count": 66,
   "id": "fd7fbf50",
   "metadata": {},
   "outputs": [],
   "source": [
    "from sklearn.model_selection import train_test_split"
   ]
  },
  {
   "cell_type": "markdown",
   "id": "9aab03db",
   "metadata": {},
   "source": [
    "#### Without Log Transformation"
   ]
  },
  {
   "cell_type": "code",
   "execution_count": 67,
   "id": "d477c345",
   "metadata": {},
   "outputs": [
    {
     "name": "stdout",
     "output_type": "stream",
     "text": [
      "(274, 7)\n",
      "(118, 7)\n",
      "(274,)\n",
      "(118,)\n"
     ]
    }
   ],
   "source": [
    "x_train,x_test,y_train,y_test = train_test_split(x,y,test_size=0.30,random_state=42)\n",
    "print(x_train.shape)\n",
    "print(x_test.shape)\n",
    "print(y_train.shape)\n",
    "print(y_test.shape)"
   ]
  },
  {
   "cell_type": "code",
   "execution_count": 68,
   "id": "b4630218",
   "metadata": {},
   "outputs": [],
   "source": [
    "from sklearn.metrics import mean_absolute_error,mean_squared_error,r2_score"
   ]
  },
  {
   "cell_type": "code",
   "execution_count": 69,
   "id": "8c6a02ab",
   "metadata": {},
   "outputs": [],
   "source": [
    "def eval_model(ytest,ypred):\n",
    "    mae = mean_absolute_error(ytest,ypred)\n",
    "    mse = mean_squared_error(ytest,ypred)\n",
    "    rmse = np.sqrt(mse)\n",
    "    r2s = r2_score(ytest,ypred)\n",
    "    print('MAE',mae)\n",
    "    print('MSE',mse)\n",
    "    print('RMSE',rmse)\n",
    "    print('R2_Score',r2s)"
   ]
  },
  {
   "cell_type": "code",
   "execution_count": 70,
   "id": "a1af85fa",
   "metadata": {},
   "outputs": [],
   "source": [
    "from sklearn.linear_model import LinearRegression"
   ]
  },
  {
   "cell_type": "code",
   "execution_count": 71,
   "id": "806b657f",
   "metadata": {},
   "outputs": [
    {
     "data": {
      "text/html": [
       "<style>#sk-container-id-1 {color: black;background-color: white;}#sk-container-id-1 pre{padding: 0;}#sk-container-id-1 div.sk-toggleable {background-color: white;}#sk-container-id-1 label.sk-toggleable__label {cursor: pointer;display: block;width: 100%;margin-bottom: 0;padding: 0.3em;box-sizing: border-box;text-align: center;}#sk-container-id-1 label.sk-toggleable__label-arrow:before {content: \"▸\";float: left;margin-right: 0.25em;color: #696969;}#sk-container-id-1 label.sk-toggleable__label-arrow:hover:before {color: black;}#sk-container-id-1 div.sk-estimator:hover label.sk-toggleable__label-arrow:before {color: black;}#sk-container-id-1 div.sk-toggleable__content {max-height: 0;max-width: 0;overflow: hidden;text-align: left;background-color: #f0f8ff;}#sk-container-id-1 div.sk-toggleable__content pre {margin: 0.2em;color: black;border-radius: 0.25em;background-color: #f0f8ff;}#sk-container-id-1 input.sk-toggleable__control:checked~div.sk-toggleable__content {max-height: 200px;max-width: 100%;overflow: auto;}#sk-container-id-1 input.sk-toggleable__control:checked~label.sk-toggleable__label-arrow:before {content: \"▾\";}#sk-container-id-1 div.sk-estimator input.sk-toggleable__control:checked~label.sk-toggleable__label {background-color: #d4ebff;}#sk-container-id-1 div.sk-label input.sk-toggleable__control:checked~label.sk-toggleable__label {background-color: #d4ebff;}#sk-container-id-1 input.sk-hidden--visually {border: 0;clip: rect(1px 1px 1px 1px);clip: rect(1px, 1px, 1px, 1px);height: 1px;margin: -1px;overflow: hidden;padding: 0;position: absolute;width: 1px;}#sk-container-id-1 div.sk-estimator {font-family: monospace;background-color: #f0f8ff;border: 1px dotted black;border-radius: 0.25em;box-sizing: border-box;margin-bottom: 0.5em;}#sk-container-id-1 div.sk-estimator:hover {background-color: #d4ebff;}#sk-container-id-1 div.sk-parallel-item::after {content: \"\";width: 100%;border-bottom: 1px solid gray;flex-grow: 1;}#sk-container-id-1 div.sk-label:hover label.sk-toggleable__label {background-color: #d4ebff;}#sk-container-id-1 div.sk-serial::before {content: \"\";position: absolute;border-left: 1px solid gray;box-sizing: border-box;top: 0;bottom: 0;left: 50%;z-index: 0;}#sk-container-id-1 div.sk-serial {display: flex;flex-direction: column;align-items: center;background-color: white;padding-right: 0.2em;padding-left: 0.2em;position: relative;}#sk-container-id-1 div.sk-item {position: relative;z-index: 1;}#sk-container-id-1 div.sk-parallel {display: flex;align-items: stretch;justify-content: center;background-color: white;position: relative;}#sk-container-id-1 div.sk-item::before, #sk-container-id-1 div.sk-parallel-item::before {content: \"\";position: absolute;border-left: 1px solid gray;box-sizing: border-box;top: 0;bottom: 0;left: 50%;z-index: -1;}#sk-container-id-1 div.sk-parallel-item {display: flex;flex-direction: column;z-index: 1;position: relative;background-color: white;}#sk-container-id-1 div.sk-parallel-item:first-child::after {align-self: flex-end;width: 50%;}#sk-container-id-1 div.sk-parallel-item:last-child::after {align-self: flex-start;width: 50%;}#sk-container-id-1 div.sk-parallel-item:only-child::after {width: 0;}#sk-container-id-1 div.sk-dashed-wrapped {border: 1px dashed gray;margin: 0 0.4em 0.5em 0.4em;box-sizing: border-box;padding-bottom: 0.4em;background-color: white;}#sk-container-id-1 div.sk-label label {font-family: monospace;font-weight: bold;display: inline-block;line-height: 1.2em;}#sk-container-id-1 div.sk-label-container {text-align: center;}#sk-container-id-1 div.sk-container {/* jupyter's `normalize.less` sets `[hidden] { display: none; }` but bootstrap.min.css set `[hidden] { display: none !important; }` so we also need the `!important` here to be able to override the default hidden behavior on the sphinx rendered scikit-learn.org. See: https://github.com/scikit-learn/scikit-learn/issues/21755 */display: inline-block !important;position: relative;}#sk-container-id-1 div.sk-text-repr-fallback {display: none;}</style><div id=\"sk-container-id-1\" class=\"sk-top-container\"><div class=\"sk-text-repr-fallback\"><pre>LinearRegression()</pre><b>In a Jupyter environment, please rerun this cell to show the HTML representation or trust the notebook. <br />On GitHub, the HTML representation is unable to render, please try loading this page with nbviewer.org.</b></div><div class=\"sk-container\" hidden><div class=\"sk-item\"><div class=\"sk-estimator sk-toggleable\"><input class=\"sk-toggleable__control sk-hidden--visually\" id=\"sk-estimator-id-1\" type=\"checkbox\" checked><label for=\"sk-estimator-id-1\" class=\"sk-toggleable__label sk-toggleable__label-arrow\">LinearRegression</label><div class=\"sk-toggleable__content\"><pre>LinearRegression()</pre></div></div></div></div></div>"
      ],
      "text/plain": [
       "LinearRegression()"
      ]
     },
     "execution_count": 71,
     "metadata": {},
     "output_type": "execute_result"
    }
   ],
   "source": [
    "lr1 = LinearRegression()\n",
    "lr1.fit(x_train,y_train)"
   ]
  },
  {
   "cell_type": "code",
   "execution_count": 72,
   "id": "8980b360",
   "metadata": {},
   "outputs": [
    {
     "name": "stdout",
     "output_type": "stream",
     "text": [
      "Train score 0.8222439354664096\n",
      "Test score 0.8087521846999318\n"
     ]
    }
   ],
   "source": [
    "print('Train score',lr1.score(x_train,y_train))\n",
    "print('Test score',lr1.score(x_test,y_test))"
   ]
  },
  {
   "cell_type": "code",
   "execution_count": 73,
   "id": "537922bf",
   "metadata": {},
   "outputs": [
    {
     "name": "stdout",
     "output_type": "stream",
     "text": [
      "MAE 1.0397111815305227\n",
      "MSE 1.8287877969127415\n",
      "RMSE 1.35232680847225\n",
      "R2_Score 0.8087521846999318\n"
     ]
    }
   ],
   "source": [
    "ypred_lr1 = lr1.predict(x_test)\n",
    "eval_model(y_test,ypred_lr1)"
   ]
  },
  {
   "cell_type": "markdown",
   "id": "a57b91f2",
   "metadata": {},
   "source": [
    "#### LinearReg With Log Transformation"
   ]
  },
  {
   "cell_type": "code",
   "execution_count": 74,
   "id": "31f78a86",
   "metadata": {},
   "outputs": [
    {
     "name": "stdout",
     "output_type": "stream",
     "text": [
      "(274, 7)\n",
      "(118, 7)\n",
      "(274,)\n",
      "(118,)\n"
     ]
    }
   ],
   "source": [
    "x_train1,x_test1,y_train1,y_test1 = train_test_split(x,np.log(y),test_size=0.30,random_state=42)\n",
    "print(x_train1.shape)\n",
    "print(x_test1.shape)\n",
    "print(y_train1.shape)\n",
    "print(y_test1.shape)"
   ]
  },
  {
   "cell_type": "code",
   "execution_count": 75,
   "id": "e98a4d08",
   "metadata": {},
   "outputs": [
    {
     "data": {
      "text/html": [
       "<style>#sk-container-id-2 {color: black;background-color: white;}#sk-container-id-2 pre{padding: 0;}#sk-container-id-2 div.sk-toggleable {background-color: white;}#sk-container-id-2 label.sk-toggleable__label {cursor: pointer;display: block;width: 100%;margin-bottom: 0;padding: 0.3em;box-sizing: border-box;text-align: center;}#sk-container-id-2 label.sk-toggleable__label-arrow:before {content: \"▸\";float: left;margin-right: 0.25em;color: #696969;}#sk-container-id-2 label.sk-toggleable__label-arrow:hover:before {color: black;}#sk-container-id-2 div.sk-estimator:hover label.sk-toggleable__label-arrow:before {color: black;}#sk-container-id-2 div.sk-toggleable__content {max-height: 0;max-width: 0;overflow: hidden;text-align: left;background-color: #f0f8ff;}#sk-container-id-2 div.sk-toggleable__content pre {margin: 0.2em;color: black;border-radius: 0.25em;background-color: #f0f8ff;}#sk-container-id-2 input.sk-toggleable__control:checked~div.sk-toggleable__content {max-height: 200px;max-width: 100%;overflow: auto;}#sk-container-id-2 input.sk-toggleable__control:checked~label.sk-toggleable__label-arrow:before {content: \"▾\";}#sk-container-id-2 div.sk-estimator input.sk-toggleable__control:checked~label.sk-toggleable__label {background-color: #d4ebff;}#sk-container-id-2 div.sk-label input.sk-toggleable__control:checked~label.sk-toggleable__label {background-color: #d4ebff;}#sk-container-id-2 input.sk-hidden--visually {border: 0;clip: rect(1px 1px 1px 1px);clip: rect(1px, 1px, 1px, 1px);height: 1px;margin: -1px;overflow: hidden;padding: 0;position: absolute;width: 1px;}#sk-container-id-2 div.sk-estimator {font-family: monospace;background-color: #f0f8ff;border: 1px dotted black;border-radius: 0.25em;box-sizing: border-box;margin-bottom: 0.5em;}#sk-container-id-2 div.sk-estimator:hover {background-color: #d4ebff;}#sk-container-id-2 div.sk-parallel-item::after {content: \"\";width: 100%;border-bottom: 1px solid gray;flex-grow: 1;}#sk-container-id-2 div.sk-label:hover label.sk-toggleable__label {background-color: #d4ebff;}#sk-container-id-2 div.sk-serial::before {content: \"\";position: absolute;border-left: 1px solid gray;box-sizing: border-box;top: 0;bottom: 0;left: 50%;z-index: 0;}#sk-container-id-2 div.sk-serial {display: flex;flex-direction: column;align-items: center;background-color: white;padding-right: 0.2em;padding-left: 0.2em;position: relative;}#sk-container-id-2 div.sk-item {position: relative;z-index: 1;}#sk-container-id-2 div.sk-parallel {display: flex;align-items: stretch;justify-content: center;background-color: white;position: relative;}#sk-container-id-2 div.sk-item::before, #sk-container-id-2 div.sk-parallel-item::before {content: \"\";position: absolute;border-left: 1px solid gray;box-sizing: border-box;top: 0;bottom: 0;left: 50%;z-index: -1;}#sk-container-id-2 div.sk-parallel-item {display: flex;flex-direction: column;z-index: 1;position: relative;background-color: white;}#sk-container-id-2 div.sk-parallel-item:first-child::after {align-self: flex-end;width: 50%;}#sk-container-id-2 div.sk-parallel-item:last-child::after {align-self: flex-start;width: 50%;}#sk-container-id-2 div.sk-parallel-item:only-child::after {width: 0;}#sk-container-id-2 div.sk-dashed-wrapped {border: 1px dashed gray;margin: 0 0.4em 0.5em 0.4em;box-sizing: border-box;padding-bottom: 0.4em;background-color: white;}#sk-container-id-2 div.sk-label label {font-family: monospace;font-weight: bold;display: inline-block;line-height: 1.2em;}#sk-container-id-2 div.sk-label-container {text-align: center;}#sk-container-id-2 div.sk-container {/* jupyter's `normalize.less` sets `[hidden] { display: none; }` but bootstrap.min.css set `[hidden] { display: none !important; }` so we also need the `!important` here to be able to override the default hidden behavior on the sphinx rendered scikit-learn.org. See: https://github.com/scikit-learn/scikit-learn/issues/21755 */display: inline-block !important;position: relative;}#sk-container-id-2 div.sk-text-repr-fallback {display: none;}</style><div id=\"sk-container-id-2\" class=\"sk-top-container\"><div class=\"sk-text-repr-fallback\"><pre>LinearRegression()</pre><b>In a Jupyter environment, please rerun this cell to show the HTML representation or trust the notebook. <br />On GitHub, the HTML representation is unable to render, please try loading this page with nbviewer.org.</b></div><div class=\"sk-container\" hidden><div class=\"sk-item\"><div class=\"sk-estimator sk-toggleable\"><input class=\"sk-toggleable__control sk-hidden--visually\" id=\"sk-estimator-id-2\" type=\"checkbox\" checked><label for=\"sk-estimator-id-2\" class=\"sk-toggleable__label sk-toggleable__label-arrow\">LinearRegression</label><div class=\"sk-toggleable__content\"><pre>LinearRegression()</pre></div></div></div></div></div>"
      ],
      "text/plain": [
       "LinearRegression()"
      ]
     },
     "execution_count": 75,
     "metadata": {},
     "output_type": "execute_result"
    }
   ],
   "source": [
    "lr2 = LinearRegression()\n",
    "lr2.fit(x_train1,y_train1)"
   ]
  },
  {
   "cell_type": "code",
   "execution_count": 76,
   "id": "100190c3",
   "metadata": {},
   "outputs": [
    {
     "name": "stdout",
     "output_type": "stream",
     "text": [
      "Train score 0.8806202824970913\n",
      "Test score 0.8713605519488116\n"
     ]
    }
   ],
   "source": [
    "print('Train score',lr2.score(x_train1,y_train1))\n",
    "print('Test score',lr2.score(x_test1,y_test1))"
   ]
  },
  {
   "cell_type": "code",
   "execution_count": 77,
   "id": "052ca49f",
   "metadata": {},
   "outputs": [
    {
     "name": "stdout",
     "output_type": "stream",
     "text": [
      "MAE 0.08620248173334223\n",
      "MSE 0.013274609037650448\n",
      "RMSE 0.11521548957345297\n",
      "R2_Score 0.8713605519488116\n"
     ]
    }
   ],
   "source": [
    "ypred_lr2 = lr2.predict(x_test1)\n",
    "eval_model(y_test1,ypred_lr2)"
   ]
  },
  {
   "cell_type": "markdown",
   "id": "ec64d10e",
   "metadata": {},
   "source": [
    "#### Linear Reg without acceleration"
   ]
  },
  {
   "cell_type": "code",
   "execution_count": 78,
   "id": "a89e2820",
   "metadata": {},
   "outputs": [
    {
     "data": {
      "text/plain": [
       "Index(['origin', 'cylinders', 'displacement', 'horsepower', 'weight',\n",
       "       'acceleration', 'year', 'kpl'],\n",
       "      dtype='object')"
      ]
     },
     "execution_count": 78,
     "metadata": {},
     "output_type": "execute_result"
    }
   ],
   "source": [
    "df1.columns"
   ]
  },
  {
   "cell_type": "code",
   "execution_count": 79,
   "id": "52eed507",
   "metadata": {},
   "outputs": [
    {
     "name": "stdout",
     "output_type": "stream",
     "text": [
      "Index(['origin', 'cylinders', 'displacement', 'horsepower', 'weight', 'year'], dtype='object')\n",
      "(392, 6) (392,)\n",
      "<class 'pandas.core.frame.DataFrame'> <class 'pandas.core.series.Series'>\n"
     ]
    }
   ],
   "source": [
    "x3 = df1.iloc[:,[0,1,2,3,4,6]]\n",
    "y3 = df1.iloc[:,-1]\n",
    "print(x3.columns)\n",
    "print(x3.shape,y3.shape)\n",
    "print(type(x3),type(y3))"
   ]
  },
  {
   "cell_type": "code",
   "execution_count": 80,
   "id": "125cf969",
   "metadata": {},
   "outputs": [
    {
     "name": "stdout",
     "output_type": "stream",
     "text": [
      "(274, 6)\n",
      "(118, 6)\n",
      "(274,)\n",
      "(118,)\n"
     ]
    }
   ],
   "source": [
    "x_train3,x_test3,y_train3,y_test3 = train_test_split(x3,y3,test_size=0.30,random_state=42)\n",
    "print(x_train3.shape)\n",
    "print(x_test3.shape)\n",
    "print(y_train3.shape)\n",
    "print(y_test3.shape)"
   ]
  },
  {
   "cell_type": "code",
   "execution_count": 81,
   "id": "466ad470",
   "metadata": {},
   "outputs": [
    {
     "data": {
      "text/html": [
       "<style>#sk-container-id-3 {color: black;background-color: white;}#sk-container-id-3 pre{padding: 0;}#sk-container-id-3 div.sk-toggleable {background-color: white;}#sk-container-id-3 label.sk-toggleable__label {cursor: pointer;display: block;width: 100%;margin-bottom: 0;padding: 0.3em;box-sizing: border-box;text-align: center;}#sk-container-id-3 label.sk-toggleable__label-arrow:before {content: \"▸\";float: left;margin-right: 0.25em;color: #696969;}#sk-container-id-3 label.sk-toggleable__label-arrow:hover:before {color: black;}#sk-container-id-3 div.sk-estimator:hover label.sk-toggleable__label-arrow:before {color: black;}#sk-container-id-3 div.sk-toggleable__content {max-height: 0;max-width: 0;overflow: hidden;text-align: left;background-color: #f0f8ff;}#sk-container-id-3 div.sk-toggleable__content pre {margin: 0.2em;color: black;border-radius: 0.25em;background-color: #f0f8ff;}#sk-container-id-3 input.sk-toggleable__control:checked~div.sk-toggleable__content {max-height: 200px;max-width: 100%;overflow: auto;}#sk-container-id-3 input.sk-toggleable__control:checked~label.sk-toggleable__label-arrow:before {content: \"▾\";}#sk-container-id-3 div.sk-estimator input.sk-toggleable__control:checked~label.sk-toggleable__label {background-color: #d4ebff;}#sk-container-id-3 div.sk-label input.sk-toggleable__control:checked~label.sk-toggleable__label {background-color: #d4ebff;}#sk-container-id-3 input.sk-hidden--visually {border: 0;clip: rect(1px 1px 1px 1px);clip: rect(1px, 1px, 1px, 1px);height: 1px;margin: -1px;overflow: hidden;padding: 0;position: absolute;width: 1px;}#sk-container-id-3 div.sk-estimator {font-family: monospace;background-color: #f0f8ff;border: 1px dotted black;border-radius: 0.25em;box-sizing: border-box;margin-bottom: 0.5em;}#sk-container-id-3 div.sk-estimator:hover {background-color: #d4ebff;}#sk-container-id-3 div.sk-parallel-item::after {content: \"\";width: 100%;border-bottom: 1px solid gray;flex-grow: 1;}#sk-container-id-3 div.sk-label:hover label.sk-toggleable__label {background-color: #d4ebff;}#sk-container-id-3 div.sk-serial::before {content: \"\";position: absolute;border-left: 1px solid gray;box-sizing: border-box;top: 0;bottom: 0;left: 50%;z-index: 0;}#sk-container-id-3 div.sk-serial {display: flex;flex-direction: column;align-items: center;background-color: white;padding-right: 0.2em;padding-left: 0.2em;position: relative;}#sk-container-id-3 div.sk-item {position: relative;z-index: 1;}#sk-container-id-3 div.sk-parallel {display: flex;align-items: stretch;justify-content: center;background-color: white;position: relative;}#sk-container-id-3 div.sk-item::before, #sk-container-id-3 div.sk-parallel-item::before {content: \"\";position: absolute;border-left: 1px solid gray;box-sizing: border-box;top: 0;bottom: 0;left: 50%;z-index: -1;}#sk-container-id-3 div.sk-parallel-item {display: flex;flex-direction: column;z-index: 1;position: relative;background-color: white;}#sk-container-id-3 div.sk-parallel-item:first-child::after {align-self: flex-end;width: 50%;}#sk-container-id-3 div.sk-parallel-item:last-child::after {align-self: flex-start;width: 50%;}#sk-container-id-3 div.sk-parallel-item:only-child::after {width: 0;}#sk-container-id-3 div.sk-dashed-wrapped {border: 1px dashed gray;margin: 0 0.4em 0.5em 0.4em;box-sizing: border-box;padding-bottom: 0.4em;background-color: white;}#sk-container-id-3 div.sk-label label {font-family: monospace;font-weight: bold;display: inline-block;line-height: 1.2em;}#sk-container-id-3 div.sk-label-container {text-align: center;}#sk-container-id-3 div.sk-container {/* jupyter's `normalize.less` sets `[hidden] { display: none; }` but bootstrap.min.css set `[hidden] { display: none !important; }` so we also need the `!important` here to be able to override the default hidden behavior on the sphinx rendered scikit-learn.org. See: https://github.com/scikit-learn/scikit-learn/issues/21755 */display: inline-block !important;position: relative;}#sk-container-id-3 div.sk-text-repr-fallback {display: none;}</style><div id=\"sk-container-id-3\" class=\"sk-top-container\"><div class=\"sk-text-repr-fallback\"><pre>LinearRegression()</pre><b>In a Jupyter environment, please rerun this cell to show the HTML representation or trust the notebook. <br />On GitHub, the HTML representation is unable to render, please try loading this page with nbviewer.org.</b></div><div class=\"sk-container\" hidden><div class=\"sk-item\"><div class=\"sk-estimator sk-toggleable\"><input class=\"sk-toggleable__control sk-hidden--visually\" id=\"sk-estimator-id-3\" type=\"checkbox\" checked><label for=\"sk-estimator-id-3\" class=\"sk-toggleable__label sk-toggleable__label-arrow\">LinearRegression</label><div class=\"sk-toggleable__content\"><pre>LinearRegression()</pre></div></div></div></div></div>"
      ],
      "text/plain": [
       "LinearRegression()"
      ]
     },
     "execution_count": 81,
     "metadata": {},
     "output_type": "execute_result"
    }
   ],
   "source": [
    "lr3 = LinearRegression()\n",
    "lr3.fit(x_train3,y_train3)"
   ]
  },
  {
   "cell_type": "code",
   "execution_count": 82,
   "id": "ee291aa6",
   "metadata": {},
   "outputs": [
    {
     "name": "stdout",
     "output_type": "stream",
     "text": [
      "Train score 0.8222327332919723\n",
      "Test score 0.8085217149831021\n"
     ]
    }
   ],
   "source": [
    "print('Train score',lr3.score(x_train3,y_train3))\n",
    "print('Test score',lr3.score(x_test3,y_test3))"
   ]
  },
  {
   "cell_type": "code",
   "execution_count": 83,
   "id": "5c02a71c",
   "metadata": {},
   "outputs": [
    {
     "name": "stdout",
     "output_type": "stream",
     "text": [
      "Train score 0.8222439354664096\n",
      "Test score 0.8087521846999318\n"
     ]
    }
   ],
   "source": [
    "print('Train score',lr1.score(x_train,y_train))\n",
    "print('Test score',lr1.score(x_test,y_test))"
   ]
  },
  {
   "cell_type": "code",
   "execution_count": 85,
   "id": "b84d505d",
   "metadata": {},
   "outputs": [
    {
     "name": "stdout",
     "output_type": "stream",
     "text": [
      "MAE 1.0403915641786532\n",
      "MSE 1.830991640156832\n",
      "RMSE 1.3531413969562944\n",
      "R2_Score 0.8085217149831021\n"
     ]
    }
   ],
   "source": [
    "ypred_lr3 = lr3.predict(x_test3)\n",
    "eval_model(y_test3,ypred_lr3)"
   ]
  },
  {
   "cell_type": "code",
   "execution_count": null,
   "id": "c7194e7c",
   "metadata": {},
   "outputs": [],
   "source": []
  },
  {
   "cell_type": "markdown",
   "id": "d15166b5",
   "metadata": {},
   "source": [
    "### Cross Validation on LinearRegression"
   ]
  },
  {
   "cell_type": "code",
   "execution_count": 86,
   "id": "d7d59182",
   "metadata": {},
   "outputs": [],
   "source": [
    "from sklearn.model_selection import cross_val_score, KFold"
   ]
  },
  {
   "cell_type": "code",
   "execution_count": 89,
   "id": "b122f7bb",
   "metadata": {},
   "outputs": [
    {
     "name": "stdout",
     "output_type": "stream",
     "text": [
      "Index(['origin', 'cylinders', 'displacement', 'horsepower', 'weight',\n",
      "       'acceleration', 'year'],\n",
      "      dtype='object')\n",
      "0    7.652587\n",
      "1    6.377156\n",
      "2    7.652587\n",
      "3    6.802299\n",
      "4    7.227443\n",
      "Name: kpl, dtype: float64\n"
     ]
    }
   ],
   "source": [
    "print(x.columns)\n",
    "print(y[:5])"
   ]
  },
  {
   "cell_type": "code",
   "execution_count": 90,
   "id": "65bbb579",
   "metadata": {},
   "outputs": [
    {
     "name": "stdout",
     "output_type": "stream",
     "text": [
      "[0.67355881 0.7506044  0.80182005 0.55277898 0.73156336 0.84654446\n",
      " 0.83474844 0.70389406 0.55564372 0.13762907 0.53023485 0.54052172]\n",
      "0.6382951605259363\n"
     ]
    }
   ],
   "source": [
    "lr_model = LinearRegression()\n",
    "kfold = KFold(n_splits=12)\n",
    "cvs = cross_val_score(lr_model,x,y,cv=kfold,scoring='r2')\n",
    "print(cvs)\n",
    "print(np.mean(cvs))"
   ]
  },
  {
   "cell_type": "markdown",
   "id": "4bd533fc",
   "metadata": {},
   "source": [
    "### Inference\n",
    "1) Model is genertaing +80% R2 only at a particular split. Linear Reg model is not robust."
   ]
  },
  {
   "cell_type": "markdown",
   "id": "6381755d",
   "metadata": {},
   "source": [
    "### 4) Ridge Regression\n",
    "Applied on features on which first LinearReg model was trained"
   ]
  },
  {
   "cell_type": "code",
   "execution_count": 91,
   "id": "7d0be937",
   "metadata": {},
   "outputs": [],
   "source": [
    "from sklearn.linear_model import Ridge"
   ]
  },
  {
   "cell_type": "code",
   "execution_count": 92,
   "id": "6216e964",
   "metadata": {},
   "outputs": [
    {
     "data": {
      "text/html": [
       "<style>#sk-container-id-4 {color: black;background-color: white;}#sk-container-id-4 pre{padding: 0;}#sk-container-id-4 div.sk-toggleable {background-color: white;}#sk-container-id-4 label.sk-toggleable__label {cursor: pointer;display: block;width: 100%;margin-bottom: 0;padding: 0.3em;box-sizing: border-box;text-align: center;}#sk-container-id-4 label.sk-toggleable__label-arrow:before {content: \"▸\";float: left;margin-right: 0.25em;color: #696969;}#sk-container-id-4 label.sk-toggleable__label-arrow:hover:before {color: black;}#sk-container-id-4 div.sk-estimator:hover label.sk-toggleable__label-arrow:before {color: black;}#sk-container-id-4 div.sk-toggleable__content {max-height: 0;max-width: 0;overflow: hidden;text-align: left;background-color: #f0f8ff;}#sk-container-id-4 div.sk-toggleable__content pre {margin: 0.2em;color: black;border-radius: 0.25em;background-color: #f0f8ff;}#sk-container-id-4 input.sk-toggleable__control:checked~div.sk-toggleable__content {max-height: 200px;max-width: 100%;overflow: auto;}#sk-container-id-4 input.sk-toggleable__control:checked~label.sk-toggleable__label-arrow:before {content: \"▾\";}#sk-container-id-4 div.sk-estimator input.sk-toggleable__control:checked~label.sk-toggleable__label {background-color: #d4ebff;}#sk-container-id-4 div.sk-label input.sk-toggleable__control:checked~label.sk-toggleable__label {background-color: #d4ebff;}#sk-container-id-4 input.sk-hidden--visually {border: 0;clip: rect(1px 1px 1px 1px);clip: rect(1px, 1px, 1px, 1px);height: 1px;margin: -1px;overflow: hidden;padding: 0;position: absolute;width: 1px;}#sk-container-id-4 div.sk-estimator {font-family: monospace;background-color: #f0f8ff;border: 1px dotted black;border-radius: 0.25em;box-sizing: border-box;margin-bottom: 0.5em;}#sk-container-id-4 div.sk-estimator:hover {background-color: #d4ebff;}#sk-container-id-4 div.sk-parallel-item::after {content: \"\";width: 100%;border-bottom: 1px solid gray;flex-grow: 1;}#sk-container-id-4 div.sk-label:hover label.sk-toggleable__label {background-color: #d4ebff;}#sk-container-id-4 div.sk-serial::before {content: \"\";position: absolute;border-left: 1px solid gray;box-sizing: border-box;top: 0;bottom: 0;left: 50%;z-index: 0;}#sk-container-id-4 div.sk-serial {display: flex;flex-direction: column;align-items: center;background-color: white;padding-right: 0.2em;padding-left: 0.2em;position: relative;}#sk-container-id-4 div.sk-item {position: relative;z-index: 1;}#sk-container-id-4 div.sk-parallel {display: flex;align-items: stretch;justify-content: center;background-color: white;position: relative;}#sk-container-id-4 div.sk-item::before, #sk-container-id-4 div.sk-parallel-item::before {content: \"\";position: absolute;border-left: 1px solid gray;box-sizing: border-box;top: 0;bottom: 0;left: 50%;z-index: -1;}#sk-container-id-4 div.sk-parallel-item {display: flex;flex-direction: column;z-index: 1;position: relative;background-color: white;}#sk-container-id-4 div.sk-parallel-item:first-child::after {align-self: flex-end;width: 50%;}#sk-container-id-4 div.sk-parallel-item:last-child::after {align-self: flex-start;width: 50%;}#sk-container-id-4 div.sk-parallel-item:only-child::after {width: 0;}#sk-container-id-4 div.sk-dashed-wrapped {border: 1px dashed gray;margin: 0 0.4em 0.5em 0.4em;box-sizing: border-box;padding-bottom: 0.4em;background-color: white;}#sk-container-id-4 div.sk-label label {font-family: monospace;font-weight: bold;display: inline-block;line-height: 1.2em;}#sk-container-id-4 div.sk-label-container {text-align: center;}#sk-container-id-4 div.sk-container {/* jupyter's `normalize.less` sets `[hidden] { display: none; }` but bootstrap.min.css set `[hidden] { display: none !important; }` so we also need the `!important` here to be able to override the default hidden behavior on the sphinx rendered scikit-learn.org. See: https://github.com/scikit-learn/scikit-learn/issues/21755 */display: inline-block !important;position: relative;}#sk-container-id-4 div.sk-text-repr-fallback {display: none;}</style><div id=\"sk-container-id-4\" class=\"sk-top-container\"><div class=\"sk-text-repr-fallback\"><pre>Ridge(alpha=1)</pre><b>In a Jupyter environment, please rerun this cell to show the HTML representation or trust the notebook. <br />On GitHub, the HTML representation is unable to render, please try loading this page with nbviewer.org.</b></div><div class=\"sk-container\" hidden><div class=\"sk-item\"><div class=\"sk-estimator sk-toggleable\"><input class=\"sk-toggleable__control sk-hidden--visually\" id=\"sk-estimator-id-4\" type=\"checkbox\" checked><label for=\"sk-estimator-id-4\" class=\"sk-toggleable__label sk-toggleable__label-arrow\">Ridge</label><div class=\"sk-toggleable__content\"><pre>Ridge(alpha=1)</pre></div></div></div></div></div>"
      ],
      "text/plain": [
       "Ridge(alpha=1)"
      ]
     },
     "execution_count": 92,
     "metadata": {},
     "output_type": "execute_result"
    }
   ],
   "source": [
    "ridge1 = Ridge(alpha=1)  # alpha represents the lambda from the cost function of Ridge Reg \n",
    "# alpha is the hyperparameter\n",
    "ridge1.fit(x_train,y_train)"
   ]
  },
  {
   "cell_type": "code",
   "execution_count": 93,
   "id": "73cf8cca",
   "metadata": {},
   "outputs": [
    {
     "name": "stdout",
     "output_type": "stream",
     "text": [
      "Train score Ridge 0.822242147005201\n",
      "Test score Ridge 0.8088843603305278\n"
     ]
    }
   ],
   "source": [
    "print('Train score Ridge',ridge1.score(x_train,y_train))\n",
    "print('Test score Ridge',ridge1.score(x_test,y_test))"
   ]
  },
  {
   "cell_type": "code",
   "execution_count": 94,
   "id": "b0c82132",
   "metadata": {},
   "outputs": [
    {
     "name": "stdout",
     "output_type": "stream",
     "text": [
      "Train score LinReg 0.8222439354664096\n",
      "Test score LinReg 0.8087521846999318\n"
     ]
    }
   ],
   "source": [
    "print('Train score LinReg',lr1.score(x_train,y_train))\n",
    "print('Test score LinReg',lr1.score(x_test,y_test))"
   ]
  },
  {
   "cell_type": "code",
   "execution_count": 95,
   "id": "6b75801b",
   "metadata": {},
   "outputs": [
    {
     "name": "stdout",
     "output_type": "stream",
     "text": [
      "[ 0.7149156  -0.15082489  0.00662795 -0.01339911 -0.00250655  0.00670438\n",
      "  0.31439032]\n",
      "[ 0.70764639 -0.14760252  0.00652803 -0.01332428 -0.00250809  0.00677838\n",
      "  0.314231  ]\n"
     ]
    }
   ],
   "source": [
    "print(lr1.coef_)\n",
    "print(ridge1.coef_)"
   ]
  },
  {
   "cell_type": "code",
   "execution_count": 96,
   "id": "2afcc73b",
   "metadata": {},
   "outputs": [
    {
     "name": "stdout",
     "output_type": "stream",
     "text": [
      "MAE 1.0397655759139677\n",
      "MSE 1.827523880878439\n",
      "RMSE 1.3518594160926791\n",
      "R2_Score 0.8088843603305278\n"
     ]
    }
   ],
   "source": [
    "ypred_ridge1 = ridge1.predict(x_test)\n",
    "eval_model(y_test,ypred_ridge1)"
   ]
  },
  {
   "cell_type": "markdown",
   "id": "65a36118",
   "metadata": {},
   "source": [
    "### Determining alpha with RidgeCV"
   ]
  },
  {
   "cell_type": "code",
   "execution_count": 97,
   "id": "f4c24bb6",
   "metadata": {},
   "outputs": [],
   "source": [
    "from sklearn.linear_model import RidgeCV"
   ]
  },
  {
   "cell_type": "code",
   "execution_count": 98,
   "id": "630026e3",
   "metadata": {},
   "outputs": [
    {
     "data": {
      "text/html": [
       "<style>#sk-container-id-5 {color: black;background-color: white;}#sk-container-id-5 pre{padding: 0;}#sk-container-id-5 div.sk-toggleable {background-color: white;}#sk-container-id-5 label.sk-toggleable__label {cursor: pointer;display: block;width: 100%;margin-bottom: 0;padding: 0.3em;box-sizing: border-box;text-align: center;}#sk-container-id-5 label.sk-toggleable__label-arrow:before {content: \"▸\";float: left;margin-right: 0.25em;color: #696969;}#sk-container-id-5 label.sk-toggleable__label-arrow:hover:before {color: black;}#sk-container-id-5 div.sk-estimator:hover label.sk-toggleable__label-arrow:before {color: black;}#sk-container-id-5 div.sk-toggleable__content {max-height: 0;max-width: 0;overflow: hidden;text-align: left;background-color: #f0f8ff;}#sk-container-id-5 div.sk-toggleable__content pre {margin: 0.2em;color: black;border-radius: 0.25em;background-color: #f0f8ff;}#sk-container-id-5 input.sk-toggleable__control:checked~div.sk-toggleable__content {max-height: 200px;max-width: 100%;overflow: auto;}#sk-container-id-5 input.sk-toggleable__control:checked~label.sk-toggleable__label-arrow:before {content: \"▾\";}#sk-container-id-5 div.sk-estimator input.sk-toggleable__control:checked~label.sk-toggleable__label {background-color: #d4ebff;}#sk-container-id-5 div.sk-label input.sk-toggleable__control:checked~label.sk-toggleable__label {background-color: #d4ebff;}#sk-container-id-5 input.sk-hidden--visually {border: 0;clip: rect(1px 1px 1px 1px);clip: rect(1px, 1px, 1px, 1px);height: 1px;margin: -1px;overflow: hidden;padding: 0;position: absolute;width: 1px;}#sk-container-id-5 div.sk-estimator {font-family: monospace;background-color: #f0f8ff;border: 1px dotted black;border-radius: 0.25em;box-sizing: border-box;margin-bottom: 0.5em;}#sk-container-id-5 div.sk-estimator:hover {background-color: #d4ebff;}#sk-container-id-5 div.sk-parallel-item::after {content: \"\";width: 100%;border-bottom: 1px solid gray;flex-grow: 1;}#sk-container-id-5 div.sk-label:hover label.sk-toggleable__label {background-color: #d4ebff;}#sk-container-id-5 div.sk-serial::before {content: \"\";position: absolute;border-left: 1px solid gray;box-sizing: border-box;top: 0;bottom: 0;left: 50%;z-index: 0;}#sk-container-id-5 div.sk-serial {display: flex;flex-direction: column;align-items: center;background-color: white;padding-right: 0.2em;padding-left: 0.2em;position: relative;}#sk-container-id-5 div.sk-item {position: relative;z-index: 1;}#sk-container-id-5 div.sk-parallel {display: flex;align-items: stretch;justify-content: center;background-color: white;position: relative;}#sk-container-id-5 div.sk-item::before, #sk-container-id-5 div.sk-parallel-item::before {content: \"\";position: absolute;border-left: 1px solid gray;box-sizing: border-box;top: 0;bottom: 0;left: 50%;z-index: -1;}#sk-container-id-5 div.sk-parallel-item {display: flex;flex-direction: column;z-index: 1;position: relative;background-color: white;}#sk-container-id-5 div.sk-parallel-item:first-child::after {align-self: flex-end;width: 50%;}#sk-container-id-5 div.sk-parallel-item:last-child::after {align-self: flex-start;width: 50%;}#sk-container-id-5 div.sk-parallel-item:only-child::after {width: 0;}#sk-container-id-5 div.sk-dashed-wrapped {border: 1px dashed gray;margin: 0 0.4em 0.5em 0.4em;box-sizing: border-box;padding-bottom: 0.4em;background-color: white;}#sk-container-id-5 div.sk-label label {font-family: monospace;font-weight: bold;display: inline-block;line-height: 1.2em;}#sk-container-id-5 div.sk-label-container {text-align: center;}#sk-container-id-5 div.sk-container {/* jupyter's `normalize.less` sets `[hidden] { display: none; }` but bootstrap.min.css set `[hidden] { display: none !important; }` so we also need the `!important` here to be able to override the default hidden behavior on the sphinx rendered scikit-learn.org. See: https://github.com/scikit-learn/scikit-learn/issues/21755 */display: inline-block !important;position: relative;}#sk-container-id-5 div.sk-text-repr-fallback {display: none;}</style><div id=\"sk-container-id-5\" class=\"sk-top-container\"><div class=\"sk-text-repr-fallback\"><pre>RidgeCV(alphas=array([0.1 , 0.11, 0.12, 0.13, 0.14, 0.15, 0.16, 0.17, 0.18, 0.19, 0.2 ,\n",
       "       0.21, 0.22, 0.23, 0.24, 0.25, 0.26, 0.27, 0.28, 0.29, 0.3 , 0.31,\n",
       "       0.32, 0.33, 0.34, 0.35, 0.36, 0.37, 0.38, 0.39, 0.4 , 0.41, 0.42,\n",
       "       0.43, 0.44, 0.45, 0.46, 0.47, 0.48, 0.49, 0.5 , 0.51, 0.52, 0.53,\n",
       "       0.54, 0.55, 0.56, 0.57, 0.58, 0.59, 0.6 , 0.61, 0.62, 0.63, 0.64,\n",
       "       0.65, 0.66, 0.67, 0.68, 0.69, 0.7 , 0.71, 0.72, 0.73, 0.74, 0.75,\n",
       "       0.76, 0.77, 0.78, 0.79, 0.8 , 0.81, 0.82, 0.83, 0.84, 0.85, 0.86,\n",
       "       0.87, 0.88, 0.89, 0.9 , 0.91, 0.92, 0.93, 0.94, 0.95, 0.96, 0.97,\n",
       "       0.98, 0.99]),\n",
       "        cv=20, scoring=&#x27;r2&#x27;)</pre><b>In a Jupyter environment, please rerun this cell to show the HTML representation or trust the notebook. <br />On GitHub, the HTML representation is unable to render, please try loading this page with nbviewer.org.</b></div><div class=\"sk-container\" hidden><div class=\"sk-item\"><div class=\"sk-estimator sk-toggleable\"><input class=\"sk-toggleable__control sk-hidden--visually\" id=\"sk-estimator-id-5\" type=\"checkbox\" checked><label for=\"sk-estimator-id-5\" class=\"sk-toggleable__label sk-toggleable__label-arrow\">RidgeCV</label><div class=\"sk-toggleable__content\"><pre>RidgeCV(alphas=array([0.1 , 0.11, 0.12, 0.13, 0.14, 0.15, 0.16, 0.17, 0.18, 0.19, 0.2 ,\n",
       "       0.21, 0.22, 0.23, 0.24, 0.25, 0.26, 0.27, 0.28, 0.29, 0.3 , 0.31,\n",
       "       0.32, 0.33, 0.34, 0.35, 0.36, 0.37, 0.38, 0.39, 0.4 , 0.41, 0.42,\n",
       "       0.43, 0.44, 0.45, 0.46, 0.47, 0.48, 0.49, 0.5 , 0.51, 0.52, 0.53,\n",
       "       0.54, 0.55, 0.56, 0.57, 0.58, 0.59, 0.6 , 0.61, 0.62, 0.63, 0.64,\n",
       "       0.65, 0.66, 0.67, 0.68, 0.69, 0.7 , 0.71, 0.72, 0.73, 0.74, 0.75,\n",
       "       0.76, 0.77, 0.78, 0.79, 0.8 , 0.81, 0.82, 0.83, 0.84, 0.85, 0.86,\n",
       "       0.87, 0.88, 0.89, 0.9 , 0.91, 0.92, 0.93, 0.94, 0.95, 0.96, 0.97,\n",
       "       0.98, 0.99]),\n",
       "        cv=20, scoring=&#x27;r2&#x27;)</pre></div></div></div></div></div>"
      ],
      "text/plain": [
       "RidgeCV(alphas=array([0.1 , 0.11, 0.12, 0.13, 0.14, 0.15, 0.16, 0.17, 0.18, 0.19, 0.2 ,\n",
       "       0.21, 0.22, 0.23, 0.24, 0.25, 0.26, 0.27, 0.28, 0.29, 0.3 , 0.31,\n",
       "       0.32, 0.33, 0.34, 0.35, 0.36, 0.37, 0.38, 0.39, 0.4 , 0.41, 0.42,\n",
       "       0.43, 0.44, 0.45, 0.46, 0.47, 0.48, 0.49, 0.5 , 0.51, 0.52, 0.53,\n",
       "       0.54, 0.55, 0.56, 0.57, 0.58, 0.59, 0.6 , 0.61, 0.62, 0.63, 0.64,\n",
       "       0.65, 0.66, 0.67, 0.68, 0.69, 0.7 , 0.71, 0.72, 0.73, 0.74, 0.75,\n",
       "       0.76, 0.77, 0.78, 0.79, 0.8 , 0.81, 0.82, 0.83, 0.84, 0.85, 0.86,\n",
       "       0.87, 0.88, 0.89, 0.9 , 0.91, 0.92, 0.93, 0.94, 0.95, 0.96, 0.97,\n",
       "       0.98, 0.99]),\n",
       "        cv=20, scoring='r2')"
      ]
     },
     "execution_count": 98,
     "metadata": {},
     "output_type": "execute_result"
    }
   ],
   "source": [
    "ridge2 = RidgeCV(alphas=np.arange(0.1,1,0.01),\n",
    "                 cv=20,scoring='r2')\n",
    "ridge2.fit(x,y)"
   ]
  },
  {
   "cell_type": "code",
   "execution_count": 104,
   "id": "d9fa715d",
   "metadata": {},
   "outputs": [
    {
     "name": "stdout",
     "output_type": "stream",
     "text": [
      "0.8240408870321821\n"
     ]
    }
   ],
   "source": [
    "ypred_ridge2 = ridge2.predict(x_test)\n",
    "print(ridge2.score(x_test,y_test))"
   ]
  },
  {
   "cell_type": "code",
   "execution_count": 105,
   "id": "31142856",
   "metadata": {},
   "outputs": [
    {
     "name": "stdout",
     "output_type": "stream",
     "text": [
      "0.9899999999999995\n"
     ]
    }
   ],
   "source": [
    "print(ridge2.alpha_)"
   ]
  },
  {
   "cell_type": "code",
   "execution_count": 106,
   "id": "5a2eb8c7",
   "metadata": {},
   "outputs": [
    {
     "name": "stdout",
     "output_type": "stream",
     "text": [
      "MAE 0.9805762848078629\n",
      "MSE 1.6825911346816895\n",
      "RMSE 1.2971473064697354\n",
      "R2_Score 0.8240408870321821\n"
     ]
    }
   ],
   "source": [
    "ypred_ridge2 = ridge2.predict(x_test)\n",
    "eval_model(y_test,ypred_ridge2)"
   ]
  },
  {
   "cell_type": "code",
   "execution_count": 107,
   "id": "92735e3c",
   "metadata": {},
   "outputs": [
    {
     "name": "stdout",
     "output_type": "stream",
     "text": [
      "MAE 1.0397655759139677\n",
      "MSE 1.827523880878439\n",
      "RMSE 1.3518594160926791\n",
      "R2_Score 0.8088843603305278\n"
     ]
    }
   ],
   "source": [
    "eval_model(y_test,ypred_ridge1)"
   ]
  },
  {
   "cell_type": "code",
   "execution_count": 108,
   "id": "c850c47c",
   "metadata": {},
   "outputs": [
    {
     "name": "stdout",
     "output_type": "stream",
     "text": [
      "MAE 1.0397111815305227\n",
      "MSE 1.8287877969127415\n",
      "RMSE 1.35232680847225\n",
      "R2_Score 0.8087521846999318\n"
     ]
    }
   ],
   "source": [
    "eval_model(y_test,ypred_lr1)"
   ]
  },
  {
   "cell_type": "markdown",
   "id": "bad0f81a",
   "metadata": {},
   "source": [
    "## Lasso Reg"
   ]
  },
  {
   "cell_type": "code",
   "execution_count": 109,
   "id": "68a2f4b0",
   "metadata": {},
   "outputs": [],
   "source": [
    "from sklearn.linear_model import Lasso"
   ]
  },
  {
   "cell_type": "code",
   "execution_count": 110,
   "id": "460ced48",
   "metadata": {},
   "outputs": [
    {
     "data": {
      "text/html": [
       "<style>#sk-container-id-6 {color: black;background-color: white;}#sk-container-id-6 pre{padding: 0;}#sk-container-id-6 div.sk-toggleable {background-color: white;}#sk-container-id-6 label.sk-toggleable__label {cursor: pointer;display: block;width: 100%;margin-bottom: 0;padding: 0.3em;box-sizing: border-box;text-align: center;}#sk-container-id-6 label.sk-toggleable__label-arrow:before {content: \"▸\";float: left;margin-right: 0.25em;color: #696969;}#sk-container-id-6 label.sk-toggleable__label-arrow:hover:before {color: black;}#sk-container-id-6 div.sk-estimator:hover label.sk-toggleable__label-arrow:before {color: black;}#sk-container-id-6 div.sk-toggleable__content {max-height: 0;max-width: 0;overflow: hidden;text-align: left;background-color: #f0f8ff;}#sk-container-id-6 div.sk-toggleable__content pre {margin: 0.2em;color: black;border-radius: 0.25em;background-color: #f0f8ff;}#sk-container-id-6 input.sk-toggleable__control:checked~div.sk-toggleable__content {max-height: 200px;max-width: 100%;overflow: auto;}#sk-container-id-6 input.sk-toggleable__control:checked~label.sk-toggleable__label-arrow:before {content: \"▾\";}#sk-container-id-6 div.sk-estimator input.sk-toggleable__control:checked~label.sk-toggleable__label {background-color: #d4ebff;}#sk-container-id-6 div.sk-label input.sk-toggleable__control:checked~label.sk-toggleable__label {background-color: #d4ebff;}#sk-container-id-6 input.sk-hidden--visually {border: 0;clip: rect(1px 1px 1px 1px);clip: rect(1px, 1px, 1px, 1px);height: 1px;margin: -1px;overflow: hidden;padding: 0;position: absolute;width: 1px;}#sk-container-id-6 div.sk-estimator {font-family: monospace;background-color: #f0f8ff;border: 1px dotted black;border-radius: 0.25em;box-sizing: border-box;margin-bottom: 0.5em;}#sk-container-id-6 div.sk-estimator:hover {background-color: #d4ebff;}#sk-container-id-6 div.sk-parallel-item::after {content: \"\";width: 100%;border-bottom: 1px solid gray;flex-grow: 1;}#sk-container-id-6 div.sk-label:hover label.sk-toggleable__label {background-color: #d4ebff;}#sk-container-id-6 div.sk-serial::before {content: \"\";position: absolute;border-left: 1px solid gray;box-sizing: border-box;top: 0;bottom: 0;left: 50%;z-index: 0;}#sk-container-id-6 div.sk-serial {display: flex;flex-direction: column;align-items: center;background-color: white;padding-right: 0.2em;padding-left: 0.2em;position: relative;}#sk-container-id-6 div.sk-item {position: relative;z-index: 1;}#sk-container-id-6 div.sk-parallel {display: flex;align-items: stretch;justify-content: center;background-color: white;position: relative;}#sk-container-id-6 div.sk-item::before, #sk-container-id-6 div.sk-parallel-item::before {content: \"\";position: absolute;border-left: 1px solid gray;box-sizing: border-box;top: 0;bottom: 0;left: 50%;z-index: -1;}#sk-container-id-6 div.sk-parallel-item {display: flex;flex-direction: column;z-index: 1;position: relative;background-color: white;}#sk-container-id-6 div.sk-parallel-item:first-child::after {align-self: flex-end;width: 50%;}#sk-container-id-6 div.sk-parallel-item:last-child::after {align-self: flex-start;width: 50%;}#sk-container-id-6 div.sk-parallel-item:only-child::after {width: 0;}#sk-container-id-6 div.sk-dashed-wrapped {border: 1px dashed gray;margin: 0 0.4em 0.5em 0.4em;box-sizing: border-box;padding-bottom: 0.4em;background-color: white;}#sk-container-id-6 div.sk-label label {font-family: monospace;font-weight: bold;display: inline-block;line-height: 1.2em;}#sk-container-id-6 div.sk-label-container {text-align: center;}#sk-container-id-6 div.sk-container {/* jupyter's `normalize.less` sets `[hidden] { display: none; }` but bootstrap.min.css set `[hidden] { display: none !important; }` so we also need the `!important` here to be able to override the default hidden behavior on the sphinx rendered scikit-learn.org. See: https://github.com/scikit-learn/scikit-learn/issues/21755 */display: inline-block !important;position: relative;}#sk-container-id-6 div.sk-text-repr-fallback {display: none;}</style><div id=\"sk-container-id-6\" class=\"sk-top-container\"><div class=\"sk-text-repr-fallback\"><pre>Lasso(alpha=1)</pre><b>In a Jupyter environment, please rerun this cell to show the HTML representation or trust the notebook. <br />On GitHub, the HTML representation is unable to render, please try loading this page with nbviewer.org.</b></div><div class=\"sk-container\" hidden><div class=\"sk-item\"><div class=\"sk-estimator sk-toggleable\"><input class=\"sk-toggleable__control sk-hidden--visually\" id=\"sk-estimator-id-6\" type=\"checkbox\" checked><label for=\"sk-estimator-id-6\" class=\"sk-toggleable__label sk-toggleable__label-arrow\">Lasso</label><div class=\"sk-toggleable__content\"><pre>Lasso(alpha=1)</pre></div></div></div></div></div>"
      ],
      "text/plain": [
       "Lasso(alpha=1)"
      ]
     },
     "execution_count": 110,
     "metadata": {},
     "output_type": "execute_result"
    }
   ],
   "source": [
    "lasso1 = Lasso(alpha=1)  # alpha represents the lambda from the cost function of Lasso Reg \n",
    "# alpha is the hyperparameter\n",
    "lasso1.fit(x_train,y_train)"
   ]
  },
  {
   "cell_type": "code",
   "execution_count": 111,
   "id": "23b09dcb",
   "metadata": {},
   "outputs": [
    {
     "name": "stdout",
     "output_type": "stream",
     "text": [
      "Train score Lasso 0.7981362246817996\n",
      "Test score Lasso 0.7876579124023022\n"
     ]
    }
   ],
   "source": [
    "print('Train score Lasso',lasso1.score(x_train,y_train))\n",
    "print('Test score Lasso',lasso1.score(x_test,y_test))"
   ]
  },
  {
   "cell_type": "code",
   "execution_count": 112,
   "id": "9f14f81c",
   "metadata": {},
   "outputs": [
    {
     "name": "stdout",
     "output_type": "stream",
     "text": [
      "Index(['origin', 'cylinders', 'displacement', 'horsepower', 'weight',\n",
      "       'acceleration', 'year'],\n",
      "      dtype='object')\n"
     ]
    }
   ],
   "source": [
    "print(x.columns)"
   ]
  },
  {
   "cell_type": "code",
   "execution_count": 113,
   "id": "4713e1f2",
   "metadata": {},
   "outputs": [
    {
     "name": "stdout",
     "output_type": "stream",
     "text": [
      "[ 0.7149156  -0.15082489  0.00662795 -0.01339911 -0.00250655  0.00670438\n",
      "  0.31439032]\n",
      "[ 0.70764639 -0.14760252  0.00652803 -0.01332428 -0.00250809  0.00677838\n",
      "  0.314231  ]\n",
      "[ 0.         -0.         -0.00170942 -0.00896815 -0.00254796  0.\n",
      "  0.21540453]\n"
     ]
    }
   ],
   "source": [
    "print(lr1.coef_)\n",
    "print(ridge1.coef_)\n",
    "print(lasso1.coef_)"
   ]
  },
  {
   "cell_type": "code",
   "execution_count": 114,
   "id": "26ccb959",
   "metadata": {},
   "outputs": [
    {
     "name": "stdout",
     "output_type": "stream",
     "text": [
      "MAE 1.1454926543394106\n",
      "MSE 2.0304996319061623\n",
      "RMSE 1.4249560105161712\n",
      "R2_Score 0.7876579124023022\n"
     ]
    }
   ],
   "source": [
    "ypred_lasso1 = lasso1.predict(x_test)\n",
    "eval_model(y_test,ypred_lasso1)"
   ]
  },
  {
   "cell_type": "markdown",
   "id": "7a46bb7d",
   "metadata": {},
   "source": [
    "### LassoCV"
   ]
  },
  {
   "cell_type": "code",
   "execution_count": 115,
   "id": "7e671783",
   "metadata": {},
   "outputs": [],
   "source": [
    "from sklearn.linear_model import LassoCV"
   ]
  },
  {
   "cell_type": "code",
   "execution_count": 116,
   "id": "3ba1cac4",
   "metadata": {},
   "outputs": [
    {
     "data": {
      "text/html": [
       "<style>#sk-container-id-7 {color: black;background-color: white;}#sk-container-id-7 pre{padding: 0;}#sk-container-id-7 div.sk-toggleable {background-color: white;}#sk-container-id-7 label.sk-toggleable__label {cursor: pointer;display: block;width: 100%;margin-bottom: 0;padding: 0.3em;box-sizing: border-box;text-align: center;}#sk-container-id-7 label.sk-toggleable__label-arrow:before {content: \"▸\";float: left;margin-right: 0.25em;color: #696969;}#sk-container-id-7 label.sk-toggleable__label-arrow:hover:before {color: black;}#sk-container-id-7 div.sk-estimator:hover label.sk-toggleable__label-arrow:before {color: black;}#sk-container-id-7 div.sk-toggleable__content {max-height: 0;max-width: 0;overflow: hidden;text-align: left;background-color: #f0f8ff;}#sk-container-id-7 div.sk-toggleable__content pre {margin: 0.2em;color: black;border-radius: 0.25em;background-color: #f0f8ff;}#sk-container-id-7 input.sk-toggleable__control:checked~div.sk-toggleable__content {max-height: 200px;max-width: 100%;overflow: auto;}#sk-container-id-7 input.sk-toggleable__control:checked~label.sk-toggleable__label-arrow:before {content: \"▾\";}#sk-container-id-7 div.sk-estimator input.sk-toggleable__control:checked~label.sk-toggleable__label {background-color: #d4ebff;}#sk-container-id-7 div.sk-label input.sk-toggleable__control:checked~label.sk-toggleable__label {background-color: #d4ebff;}#sk-container-id-7 input.sk-hidden--visually {border: 0;clip: rect(1px 1px 1px 1px);clip: rect(1px, 1px, 1px, 1px);height: 1px;margin: -1px;overflow: hidden;padding: 0;position: absolute;width: 1px;}#sk-container-id-7 div.sk-estimator {font-family: monospace;background-color: #f0f8ff;border: 1px dotted black;border-radius: 0.25em;box-sizing: border-box;margin-bottom: 0.5em;}#sk-container-id-7 div.sk-estimator:hover {background-color: #d4ebff;}#sk-container-id-7 div.sk-parallel-item::after {content: \"\";width: 100%;border-bottom: 1px solid gray;flex-grow: 1;}#sk-container-id-7 div.sk-label:hover label.sk-toggleable__label {background-color: #d4ebff;}#sk-container-id-7 div.sk-serial::before {content: \"\";position: absolute;border-left: 1px solid gray;box-sizing: border-box;top: 0;bottom: 0;left: 50%;z-index: 0;}#sk-container-id-7 div.sk-serial {display: flex;flex-direction: column;align-items: center;background-color: white;padding-right: 0.2em;padding-left: 0.2em;position: relative;}#sk-container-id-7 div.sk-item {position: relative;z-index: 1;}#sk-container-id-7 div.sk-parallel {display: flex;align-items: stretch;justify-content: center;background-color: white;position: relative;}#sk-container-id-7 div.sk-item::before, #sk-container-id-7 div.sk-parallel-item::before {content: \"\";position: absolute;border-left: 1px solid gray;box-sizing: border-box;top: 0;bottom: 0;left: 50%;z-index: -1;}#sk-container-id-7 div.sk-parallel-item {display: flex;flex-direction: column;z-index: 1;position: relative;background-color: white;}#sk-container-id-7 div.sk-parallel-item:first-child::after {align-self: flex-end;width: 50%;}#sk-container-id-7 div.sk-parallel-item:last-child::after {align-self: flex-start;width: 50%;}#sk-container-id-7 div.sk-parallel-item:only-child::after {width: 0;}#sk-container-id-7 div.sk-dashed-wrapped {border: 1px dashed gray;margin: 0 0.4em 0.5em 0.4em;box-sizing: border-box;padding-bottom: 0.4em;background-color: white;}#sk-container-id-7 div.sk-label label {font-family: monospace;font-weight: bold;display: inline-block;line-height: 1.2em;}#sk-container-id-7 div.sk-label-container {text-align: center;}#sk-container-id-7 div.sk-container {/* jupyter's `normalize.less` sets `[hidden] { display: none; }` but bootstrap.min.css set `[hidden] { display: none !important; }` so we also need the `!important` here to be able to override the default hidden behavior on the sphinx rendered scikit-learn.org. See: https://github.com/scikit-learn/scikit-learn/issues/21755 */display: inline-block !important;position: relative;}#sk-container-id-7 div.sk-text-repr-fallback {display: none;}</style><div id=\"sk-container-id-7\" class=\"sk-top-container\"><div class=\"sk-text-repr-fallback\"><pre>LassoCV(alphas=array([0.01, 0.02, 0.03, 0.04, 0.05, 0.06, 0.07, 0.08, 0.09, 0.1 , 0.11,\n",
       "       0.12, 0.13, 0.14, 0.15, 0.16, 0.17, 0.18, 0.19, 0.2 , 0.21, 0.22,\n",
       "       0.23, 0.24, 0.25, 0.26, 0.27, 0.28, 0.29, 0.3 , 0.31, 0.32, 0.33,\n",
       "       0.34, 0.35, 0.36, 0.37, 0.38, 0.39, 0.4 , 0.41, 0.42, 0.43, 0.44,\n",
       "       0.45, 0.46, 0.47, 0.48, 0.49, 0.5 , 0.51, 0.52, 0.53, 0.54, 0.55,\n",
       "       0.56, 0.57, 0.58, 0.59, 0.6 , 0.61, 0.62, 0.63, 0.64, 0.65, 0.66,\n",
       "       0.67, 0.68, 0.69, 0.7 , 0.71, 0.72, 0.73, 0.74, 0.75, 0.76, 0.77,\n",
       "       0.78, 0.79, 0.8 , 0.81, 0.82, 0.83, 0.84, 0.85, 0.86, 0.87, 0.88,\n",
       "       0.89, 0.9 , 0.91, 0.92, 0.93, 0.94, 0.95, 0.96, 0.97, 0.98, 0.99]),\n",
       "        cv=20)</pre><b>In a Jupyter environment, please rerun this cell to show the HTML representation or trust the notebook. <br />On GitHub, the HTML representation is unable to render, please try loading this page with nbviewer.org.</b></div><div class=\"sk-container\" hidden><div class=\"sk-item\"><div class=\"sk-estimator sk-toggleable\"><input class=\"sk-toggleable__control sk-hidden--visually\" id=\"sk-estimator-id-7\" type=\"checkbox\" checked><label for=\"sk-estimator-id-7\" class=\"sk-toggleable__label sk-toggleable__label-arrow\">LassoCV</label><div class=\"sk-toggleable__content\"><pre>LassoCV(alphas=array([0.01, 0.02, 0.03, 0.04, 0.05, 0.06, 0.07, 0.08, 0.09, 0.1 , 0.11,\n",
       "       0.12, 0.13, 0.14, 0.15, 0.16, 0.17, 0.18, 0.19, 0.2 , 0.21, 0.22,\n",
       "       0.23, 0.24, 0.25, 0.26, 0.27, 0.28, 0.29, 0.3 , 0.31, 0.32, 0.33,\n",
       "       0.34, 0.35, 0.36, 0.37, 0.38, 0.39, 0.4 , 0.41, 0.42, 0.43, 0.44,\n",
       "       0.45, 0.46, 0.47, 0.48, 0.49, 0.5 , 0.51, 0.52, 0.53, 0.54, 0.55,\n",
       "       0.56, 0.57, 0.58, 0.59, 0.6 , 0.61, 0.62, 0.63, 0.64, 0.65, 0.66,\n",
       "       0.67, 0.68, 0.69, 0.7 , 0.71, 0.72, 0.73, 0.74, 0.75, 0.76, 0.77,\n",
       "       0.78, 0.79, 0.8 , 0.81, 0.82, 0.83, 0.84, 0.85, 0.86, 0.87, 0.88,\n",
       "       0.89, 0.9 , 0.91, 0.92, 0.93, 0.94, 0.95, 0.96, 0.97, 0.98, 0.99]),\n",
       "        cv=20)</pre></div></div></div></div></div>"
      ],
      "text/plain": [
       "LassoCV(alphas=array([0.01, 0.02, 0.03, 0.04, 0.05, 0.06, 0.07, 0.08, 0.09, 0.1 , 0.11,\n",
       "       0.12, 0.13, 0.14, 0.15, 0.16, 0.17, 0.18, 0.19, 0.2 , 0.21, 0.22,\n",
       "       0.23, 0.24, 0.25, 0.26, 0.27, 0.28, 0.29, 0.3 , 0.31, 0.32, 0.33,\n",
       "       0.34, 0.35, 0.36, 0.37, 0.38, 0.39, 0.4 , 0.41, 0.42, 0.43, 0.44,\n",
       "       0.45, 0.46, 0.47, 0.48, 0.49, 0.5 , 0.51, 0.52, 0.53, 0.54, 0.55,\n",
       "       0.56, 0.57, 0.58, 0.59, 0.6 , 0.61, 0.62, 0.63, 0.64, 0.65, 0.66,\n",
       "       0.67, 0.68, 0.69, 0.7 , 0.71, 0.72, 0.73, 0.74, 0.75, 0.76, 0.77,\n",
       "       0.78, 0.79, 0.8 , 0.81, 0.82, 0.83, 0.84, 0.85, 0.86, 0.87, 0.88,\n",
       "       0.89, 0.9 , 0.91, 0.92, 0.93, 0.94, 0.95, 0.96, 0.97, 0.98, 0.99]),\n",
       "        cv=20)"
      ]
     },
     "execution_count": 116,
     "metadata": {},
     "output_type": "execute_result"
    }
   ],
   "source": [
    "lasso2 = LassoCV(alphas=np.arange(0.01,1,0.01),cv=20)\n",
    "lasso2.fit(x,y)"
   ]
  },
  {
   "cell_type": "code",
   "execution_count": 117,
   "id": "a0724b23",
   "metadata": {},
   "outputs": [
    {
     "name": "stdout",
     "output_type": "stream",
     "text": [
      "0.01\n"
     ]
    }
   ],
   "source": [
    "print(lasso2.alpha_)"
   ]
  },
  {
   "cell_type": "code",
   "execution_count": 119,
   "id": "ce791267",
   "metadata": {},
   "outputs": [
    {
     "name": "stdout",
     "output_type": "stream",
     "text": [
      "0.8242368037513547\n",
      "0.8240408870321821\n"
     ]
    }
   ],
   "source": [
    "ypred_lasso2 = lasso2.predict(x_test)\n",
    "print(lasso2.score(x_test,y_test))\n",
    "print(ridge2.score(x_test,y_test))"
   ]
  },
  {
   "cell_type": "code",
   "execution_count": 113,
   "id": "4493b40f",
   "metadata": {},
   "outputs": [
    {
     "name": "stdout",
     "output_type": "stream",
     "text": [
      "[ 0.         -0.         -0.00170942 -0.00896815 -0.00254796  0.\n",
      "  0.21540453]\n",
      "[ 0.57756873 -0.17155907  0.0074881  -0.00874537 -0.0026952   0.01482541\n",
      "  0.31733511]\n"
     ]
    }
   ],
   "source": [
    "print(lasso1.coef_)\n",
    "print(lasso2.coef_)"
   ]
  },
  {
   "cell_type": "code",
   "execution_count": null,
   "id": "0aa1c8ed",
   "metadata": {},
   "outputs": [],
   "source": [
    "### OLS -> remove insig features\n",
    "#### Lin reg -> if overfit\n",
    "#### Ridge or Lasso, RidgeCV and Lasso CV"
   ]
  }
 ],
 "metadata": {
  "kernelspec": {
   "display_name": "Python 3 (ipykernel)",
   "language": "python",
   "name": "python3"
  },
  "language_info": {
   "codemirror_mode": {
    "name": "ipython",
    "version": 3
   },
   "file_extension": ".py",
   "mimetype": "text/x-python",
   "name": "python",
   "nbconvert_exporter": "python",
   "pygments_lexer": "ipython3",
   "version": "3.11.4"
  }
 },
 "nbformat": 4,
 "nbformat_minor": 5
}
